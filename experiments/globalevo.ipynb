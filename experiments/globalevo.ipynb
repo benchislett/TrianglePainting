{
 "cells": [
  {
   "cell_type": "markdown",
   "id": "1bbb07c4-a5e3-4524-a0fc-64d62cb02934",
   "metadata": {},
   "source": [
    "## Dependencies and Setup\n",
    "\n",
    "Load the target image, and a pair of simulations to compare"
   ]
  },
  {
   "cell_type": "code",
   "execution_count": null,
   "id": "bdac6330-0ee1-44a4-975f-bb5b2190e69f",
   "metadata": {},
   "outputs": [],
   "source": [
    "using Revise\n",
    "using Paint\n",
    "using Serialization\n",
    "using Images, ImageShow\n",
    "using Plots\n",
    "using Evolutionary\n",
    "using BlackBoxOptim\n",
    "using StaticArrays\n",
    "using ImageFeatures\n",
    "using IntervalSets\n",
    "using ReinforcementLearning\n",
    "using ReinforcementLearningBase\n",
    "using ReinforcementLearningZoo\n",
    "using Combinatorics\n",
    "using StatsBase\n",
    "using Random"
   ]
  },
  {
   "cell_type": "code",
   "execution_count": null,
   "id": "d63e4f1e-91a6-43d6-9808-f2a3cf43be88",
   "metadata": {},
   "outputs": [],
   "source": [
    "target = float.(load(\"../lisa.png\"))\n",
    "hist = Serialization.deserialize(\"../output/simresult/simlog_100-prims_100-batch_10-epoch_100-refine.bin\")\n",
    "state = hist.history[end]\n",
    "nothing"
   ]
  },
  {
   "cell_type": "code",
   "execution_count": null,
   "id": "6a4a74a8-29e2-4d69-aeee-e854301ec8f7",
   "metadata": {},
   "outputs": [],
   "source": [
    "function drawstate(state, size)\n",
    "    initial = zeros(RGB{Float32}, size) .+ state.background\n",
    "    for k in eachindex(state.shapes)\n",
    "        draw!(initial, state.shapes[k], RGBA{Float32}(state.colours[k].r, state.colours[k].g, state.colours[k].b, state.alpha), RasterAlgorithmScanline())\n",
    "    end\n",
    "    initial\n",
    "end"
   ]
  },
  {
   "cell_type": "code",
   "execution_count": null,
   "id": "77ff1e33-71c4-4949-b12b-36b03966bf89",
   "metadata": {},
   "outputs": [],
   "source": [
    "drawstate(state, size(target))"
   ]
  },
  {
   "cell_type": "code",
   "execution_count": null,
   "id": "f22a6acc-ed4f-48c6-84fa-5414015e8c7a",
   "metadata": {},
   "outputs": [],
   "source": [
    "drawstate(state, size(target) .* 2)"
   ]
  },
  {
   "cell_type": "code",
   "execution_count": null,
   "id": "477529e9-7264-4f4b-8165-b1fb5c2a4027",
   "metadata": {},
   "outputs": [],
   "source": [
    "makecol(x) = RGBA{Float32}(x.r, x.g, x.b, state.alpha)"
   ]
  },
  {
   "cell_type": "code",
   "execution_count": null,
   "id": "be88de08-0ffc-44f1-a974-7cefcd8cb1ce",
   "metadata": {},
   "outputs": [],
   "source": []
  },
  {
   "cell_type": "code",
   "execution_count": null,
   "id": "853886b4-3abe-4a94-9cda-d8c242c72ba8",
   "metadata": {},
   "outputs": [],
   "source": [
    "background"
   ]
  },
  {
   "cell_type": "code",
   "execution_count": null,
   "id": "66718041-80aa-42f0-bf0b-328c74dc3957",
   "metadata": {},
   "outputs": [],
   "source": [
    "foreground"
   ]
  },
  {
   "cell_type": "code",
   "execution_count": null,
   "id": "93ec67e8-34c5-4c7b-9299-2062e0a308c6",
   "metadata": {},
   "outputs": [],
   "source": [
    "@time for round = 1:1000\n",
    "    Threads.@threads for which = 1:100\n",
    "        background = zero(target) .+ state.background\n",
    "        for i = 1:(which-1)\n",
    "            draw!(background, state.shapes[i], makecol(state.colours[i]), RasterAlgorithmScanline())\n",
    "        end\n",
    "        \n",
    "        foreground = zeros(RGBA{Float32}, size(target))\n",
    "        for i = (which+1):length(state.shapes)\n",
    "            draw!(foreground, state.shapes[i], makecol(state.colours[i]), RasterAlgorithmScanline())\n",
    "        end\n",
    "        \n",
    "        best = 0.0f0\n",
    "        delta = zeros(Float32, 6)\n",
    "        bestshape = state.shapes[which]\n",
    "        for k = 1:10\n",
    "            newshape = mutate(bestshape, delta .* 0.01f0)\n",
    "            ld = drawloss(target, background, newshape, makecol(state.colours[which]), SELoss(), RasterAlgorithmScanline(), foreground = foreground)\n",
    "            if ld < best\n",
    "                best = ld\n",
    "                bestshape = newshape\n",
    "            end\n",
    "            randn!(delta)\n",
    "        end\n",
    "        \n",
    "        state.shapes[which] = bestshape\n",
    "    end\n",
    "end\n",
    "\n",
    "state.colours, state.background = alpharecolor(target, state.shapes, state.alpha, RasterAlgorithmScanline())"
   ]
  },
  {
   "cell_type": "code",
   "execution_count": null,
   "id": "b111dea2-8f46-4b2f-9fae-ca94ed8333bd",
   "metadata": {},
   "outputs": [],
   "source": [
    "imloss(drawstate(state, size(target)), target, SELoss())"
   ]
  },
  {
   "cell_type": "code",
   "execution_count": null,
   "id": "e7183ee3-1767-4b8d-a8e2-c4149ee7853c",
   "metadata": {},
   "outputs": [],
   "source": []
  },
  {
   "cell_type": "code",
   "execution_count": null,
   "id": "e987368f-a904-4432-a7e3-74c04cf2bb52",
   "metadata": {},
   "outputs": [],
   "source": [
    "drawstate(state, size(target))"
   ]
  },
  {
   "cell_type": "code",
   "execution_count": null,
   "id": "4b7b265f-f404-4244-a5b9-40157fa244cd",
   "metadata": {},
   "outputs": [],
   "source": []
  },
  {
   "cell_type": "code",
   "execution_count": null,
   "id": "f597e314-fffb-4ed3-b5f9-85cf4f5bc946",
   "metadata": {},
   "outputs": [],
   "source": [
    "img = ones(RGB{Float32}, (200, 200))\n",
    "tri1 = Triangle(Point(0.2, 0.4), Point(0.7, 0.2), Point(0.9, 0.9))\n",
    "draw!(img, tri1, RGB{Float32}(1, 0, 0), RasterAlgorithmScanline())\n",
    "img"
   ]
  },
  {
   "cell_type": "code",
   "execution_count": null,
   "id": "4b79cb7b-91ac-4260-b4d6-17ebcbd98ddc",
   "metadata": {},
   "outputs": [],
   "source": [
    "function disp(tri)\n",
    "    newimg = copy(img)\n",
    "    draw!(newimg, tri, RGBA{Float32}(0, 0, 1, 0.5), RasterAlgorithmScanline())\n",
    "    newimg\n",
    "end"
   ]
  },
  {
   "cell_type": "code",
   "execution_count": null,
   "id": "eec03286-fd35-4bc1-9bd7-d30661893f4f",
   "metadata": {},
   "outputs": [],
   "source": [
    "blank = ones(RGB{Float32}, (200, 200))\n",
    "base = imloss(blank, img, SELoss())\n",
    "function err(tri)\n",
    "    col = averagepixel(img, blank, 1.0, tri, RasterAlgorithmScanline())\n",
    "    base + drawloss(img, blank, tri, col, SELoss(), RasterAlgorithmScanline())\n",
    "end"
   ]
  },
  {
   "cell_type": "code",
   "execution_count": null,
   "id": "e393be37-5212-47b6-b4e2-b052c0ff96ca",
   "metadata": {},
   "outputs": [],
   "source": [
    "optimtribase = Triangle(Point(0.4, 0.4), Point(0.5, 0.6), Point(0.6, 0.4))\n",
    "optimtri = optimtribase\n",
    "println(err(optimtri))\n",
    "disp(optimtri)"
   ]
  },
  {
   "cell_type": "code",
   "execution_count": null,
   "id": "988f13b1-76e9-4a2f-890f-f4c6dffe6db1",
   "metadata": {},
   "outputs": [],
   "source": [
    "losses = []\n",
    "@time for i = 1:1000\n",
    "    which = rand(1:6)\n",
    "    deltas = zeros(6)\n",
    "    # deltas[which] = randn(Float32) .* 0.005f0\n",
    "    deltas = randn(Float32, 6) .* 0.005f0\n",
    "    newt = mutate(optimtri, deltas)\n",
    "    if err(newt) < err(optimtri)\n",
    "        optimtri = newt\n",
    "    end\n",
    "    push!(losses, err(optimtri))\n",
    "end\n",
    "println(err(optimtri))\n",
    "disp(optimtri)"
   ]
  },
  {
   "cell_type": "code",
   "execution_count": null,
   "id": "9f81acef-5c85-4cc7-94cc-8eab237b8b4e",
   "metadata": {},
   "outputs": [],
   "source": []
  },
  {
   "cell_type": "code",
   "execution_count": null,
   "id": "f81c9542-f22d-4996-b124-efc48a479a36",
   "metadata": {},
   "outputs": [],
   "source": [
    "rand(1:6)"
   ]
  },
  {
   "cell_type": "code",
   "execution_count": null,
   "id": "6aa799e5-9114-4f76-95a4-b51ddc3cd43b",
   "metadata": {},
   "outputs": [],
   "source": [
    "optimtri"
   ]
  },
  {
   "cell_type": "code",
   "execution_count": null,
   "id": "277de6e5-83b7-4e70-8b6b-271aa11a3ef4",
   "metadata": {},
   "outputs": [],
   "source": [
    "tri1"
   ]
  },
  {
   "cell_type": "code",
   "execution_count": null,
   "id": "7dc242ff-f4d6-4f0b-86b5-192d85ead6b1",
   "metadata": {},
   "outputs": [],
   "source": [
    "using Evolutionary"
   ]
  },
  {
   "cell_type": "code",
   "execution_count": null,
   "id": "4dfb72ca-4bc3-40ee-ad4a-e95abcf8286b",
   "metadata": {},
   "outputs": [],
   "source": [
    "function sample_loss(xs)\n",
    "    tri = Triangle(SVector{6, Float32}(xs))\n",
    "    Float64(err(tri))\n",
    "end"
   ]
  },
  {
   "cell_type": "code",
   "execution_count": null,
   "id": "91195f0e-253e-4351-b54b-faeaf0d204f3",
   "metadata": {},
   "outputs": [],
   "source": [
    "Evolutionary.optimize(sample_loss, [0.4, 0.4, 0.5, 0.6, 0.6, 0.4], Evolutionary.DE(populationSize=2000))"
   ]
  },
  {
   "cell_type": "code",
   "execution_count": null,
   "id": "124a2add-2aef-4d4d-b1e3-f0ca566aacdd",
   "metadata": {},
   "outputs": [],
   "source": [
    "optimtribase"
   ]
  },
  {
   "cell_type": "code",
   "execution_count": null,
   "id": "602c490f-543a-4cdd-88c7-49a5aaaa8089",
   "metadata": {},
   "outputs": [],
   "source": [
    "optres = bboptimize(x -> sample_loss(x); SearchRange=(0, 1), MaxTime=30, NumDimensions=6, PopulationSize=2000)\n",
    "nothing"
   ]
  },
  {
   "cell_type": "code",
   "execution_count": null,
   "id": "e1df48cd-01e0-48db-acb2-c44ddc6c4a58",
   "metadata": {},
   "outputs": [],
   "source": [
    "rngs = 2.0f0 .* rand(Float32, 20, 6) .- 0.5f0\n",
    "tris = [Triangle(SVector{6, Float32}(slice)) for slice in eachslice(rngs, dims=1)]\n",
    "cols = [RGBA{Float32}(slice...) for slice in eachslice(rand(20, 4), dims=1)]"
   ]
  },
  {
   "cell_type": "code",
   "execution_count": null,
   "id": "b71d9d37-3724-4a02-bbd3-a522153a2292",
   "metadata": {},
   "outputs": [],
   "source": [
    "img = ones(RGB{Float32}, (200, 200))\n",
    "for k = 1:20\n",
    "    draw!(img, tris[k], cols[k], RasterAlgorithmScanline())\n",
    "end\n",
    "img"
   ]
  },
  {
   "cell_type": "code",
   "execution_count": null,
   "id": "74fc451c-91d9-4e34-84f6-e04d064c2bb9",
   "metadata": {},
   "outputs": [],
   "source": [
    "optimtribase = Triangle(Point(0.4, 0.4), Point(0.5, 0.6), Point(0.6, 0.4))\n",
    "optimtri = optimtribase\n",
    "println(err(optimtri))\n",
    "disp(optimtri)"
   ]
  },
  {
   "cell_type": "code",
   "execution_count": null,
   "id": "462c79f8-d171-44ca-b175-b1a56b387ff6",
   "metadata": {},
   "outputs": [],
   "source": [
    "# losses = []\n",
    "best = err(optimtri)\n",
    "@time for i = 1:1\n",
    "    deltas = randn(Float32, 6) .* 0.005f0\n",
    "    newt = mutate(optimtri, deltas)\n",
    "    @time ev = err(newt)\n",
    "    if ev < best\n",
    "        optimtri = newt\n",
    "        best = ev\n",
    "    end\n",
    "end\n",
    "\n",
    "println(err(optimtri))\n",
    "disp(optimtri)"
   ]
  },
  {
   "cell_type": "code",
   "execution_count": null,
   "id": "94badfeb-1e15-4693-b7e8-9e79ebec9e97",
   "metadata": {},
   "outputs": [],
   "source": [
    "optres = bboptimize(x -> sample_loss(x); SearchRange=(-1, 2), MaxTime=3, NumDimensions=6, PopulationSize=50)\n",
    "nothing"
   ]
  },
  {
   "cell_type": "code",
   "execution_count": null,
   "id": "48207f6a-7941-4252-b5e8-f2b304ece136",
   "metadata": {},
   "outputs": [],
   "source": [
    "disp(Triangle(SVector{6, Float32}(optres.archive_output.best_candidate)))"
   ]
  },
  {
   "cell_type": "code",
   "execution_count": null,
   "id": "a141f907-ab91-4bf8-8808-eca13fdf445f",
   "metadata": {},
   "outputs": [],
   "source": [
    "img"
   ]
  },
  {
   "cell_type": "code",
   "execution_count": null,
   "id": "f19c7931-f5df-409a-b2c3-2689c2b0c30b",
   "metadata": {},
   "outputs": [],
   "source": [
    "optres.parameters.dicts[2]"
   ]
  },
  {
   "cell_type": "code",
   "execution_count": null,
   "id": "0b8b25b5-40f8-44ae-8b30-a565828df263",
   "metadata": {},
   "outputs": [],
   "source": [
    "@time begin\n",
    "nbatch = 1\n",
    "rngs = 2.0f0 .* rand(nbatch, 6) .- 0.5f0\n",
    "pop = [collect(slice) for slice in eachslice(rngs, dims=1)]\n",
    "tris = collect(map(Triangle, map(SVector{6, Float32}, pop)))\n",
    "cols = averagepixel_batch(img, blank, 1.0, tris, RasterAlgorithmScanline())\n",
    "losses = drawloss_batch(img, blank, tris, cols, SELoss(), RasterAlgorithmScanline())\n",
    "\n",
    "for k=1:1000\n",
    "    rngs = randn(Float32, nbatch, 6) .* 0.01f0\n",
    "    newtris = mutate_batch(tris, rngs)\n",
    "    newcolours = averagepixel_batch(img, blank, 1.0, newtris, RasterAlgorithmScanline())\n",
    "    newlosses = drawloss_batch(img, blank, newtris, newcolours, SELoss(), RasterAlgorithmScanline())\n",
    "    for i=1:nbatch\n",
    "        if newlosses[i] < losses[i]\n",
    "            losses[i] = newlosses[i]\n",
    "            tris[i] = newtris[i]\n",
    "            pop[i] = [tris[i].vertices[1][1], tris[i].vertices[1][2], tris[i].vertices[2][1], tris[i].vertices[2][2], tris[i].vertices[3][1], tris[i].vertices[3][2]]\n",
    "            cols[i] = newcolours[i]\n",
    "        end\n",
    "    end\n",
    "end\n",
    "\n",
    "end\n",
    "\n",
    "println(minimum(losses) + base)\n",
    "# pop = pop[sortperm(losses)[1:50]]\n",
    "# sort(losses)[1:50] .+ base"
   ]
  },
  {
   "cell_type": "code",
   "execution_count": null,
   "id": "a24e2787-db4d-4f12-9b38-c899df3fb900",
   "metadata": {},
   "outputs": [],
   "source": [
    "optres = bboptimize(x -> sample_loss(x), pop; SearchRange=(-2, 3), MaxTime=1, NumDimensions=6)\n",
    "nothing"
   ]
  },
  {
   "cell_type": "code",
   "execution_count": null,
   "id": "2caa8cab-3b58-4852-ae0d-d912de3b0fa9",
   "metadata": {},
   "outputs": [],
   "source": [
    "target = float.(load(\"../lisa.png\"))\n",
    "draw!(target, Triangle(Point(0.45, 0.45), Point(0.5, 0.515), Point(0.515, 0.45)), one(RGB{Float32}), RasterAlgorithmScanline())\n",
    "img = target"
   ]
  },
  {
   "cell_type": "code",
   "execution_count": null,
   "id": "78e224d8-6997-408e-b37c-044dcf2839d9",
   "metadata": {},
   "outputs": [],
   "source": []
  },
  {
   "cell_type": "code",
   "execution_count": null,
   "id": "1dd9d2dd-bc82-4156-a937-0e01c5b0b547",
   "metadata": {},
   "outputs": [],
   "source": []
  }
 ],
 "metadata": {
  "kernelspec": {
   "display_name": "Julia 1.9.4",
   "language": "julia",
   "name": "julia-1.9"
  },
  "language_info": {
   "file_extension": ".jl",
   "mimetype": "application/julia",
   "name": "julia",
   "version": "1.9.4"
  }
 },
 "nbformat": 4,
 "nbformat_minor": 5
}
