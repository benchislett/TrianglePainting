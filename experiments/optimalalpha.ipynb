{
 "cells": [
  {
   "cell_type": "markdown",
   "id": "1bbb07c4-a5e3-4524-a0fc-64d62cb02934",
   "metadata": {},
   "source": [
    "## Dependencies and Setup\n",
    "\n",
    "Load the target image, and test some triangles at different colour values"
   ]
  },
  {
   "cell_type": "code",
   "execution_count": null,
   "id": "bdac6330-0ee1-44a4-975f-bb5b2190e69f",
   "metadata": {},
   "outputs": [],
   "source": [
    "using Revise\n",
    "using Paint\n",
    "using Serialization\n",
    "using Images, ImageShow\n",
    "using Plots\n",
    "using StaticArrays\n",
    "using ImageFeatures\n",
    "using IntervalSets\n",
    "using Combinatorics\n",
    "using StatsBase\n",
    "using Zygote"
   ]
  },
  {
   "cell_type": "code",
   "execution_count": null,
   "id": "d63e4f1e-91a6-43d6-9808-f2a3cf43be88",
   "metadata": {},
   "outputs": [],
   "source": [
    "target = float.(load(\"../lisa.png\"))\n",
    "hist = Serialization.deserialize(\"../output/simresult/simlog_100-prims_1000000-batch_10-epoch_100-refine.bin\")\n",
    "nothing"
   ]
  },
  {
   "cell_type": "code",
   "execution_count": null,
   "id": "f80eda9b-51a6-471e-9b76-6fb36e66710e",
   "metadata": {},
   "outputs": [],
   "source": [
    "ffox = float.(load(\"../firefox.jpg\"))\n",
    "ffox_resize = imresize(ffox, size(target))"
   ]
  },
  {
   "cell_type": "code",
   "execution_count": null,
   "id": "6a4a74a8-29e2-4d69-aeee-e854301ec8f7",
   "metadata": {},
   "outputs": [],
   "source": [
    "tri1 = Triangle(Pair(0.25, 0.25), Pair(0.5, 0.25), Pair(0.5, 0.5))\n",
    "tri2 = Triangle(Pair(0.75, 0.75), Pair(0.5, 0.75), Pair(0.5, 0.5))\n",
    "nothing"
   ]
  },
  {
   "cell_type": "code",
   "execution_count": null,
   "id": "3c54f3b9-416a-4a8f-a345-d1c0c4eaf633",
   "metadata": {},
   "outputs": [],
   "source": [
    "# newimg = copy(hist.history[end].current)\n",
    "newimg = copy(ffox_resize)#ones(RGB{Float32}, size(target))\n",
    "# draw!(newimg, tri1, RGBA{Float32}(0.8508511f0,0.7766122f0,0.6555407f0, 0.5), RasterAlgorithmBounded())\n",
    "draw!(newimg, tri1, RGBA{Float32}(0.7276809f0,0.5967741f0,0.31770712f0, 0.75), RasterAlgorithmBounded())\n",
    "# draw!(newimg, tri1, RGBA{Float32}(0.70170283f0,0.5532264f0,0.3110801f0, 0.5), RasterAlgorithmBounded())\n",
    "println(imloss(target, newimg, SELoss()))\n",
    "newimg"
   ]
  },
  {
   "cell_type": "code",
   "execution_count": null,
   "id": "bf06cb59-b34d-4abc-85d8-f928fb84a480",
   "metadata": {},
   "outputs": [],
   "source": [
    "# newimg = copy(hist.history[end].current)\n",
    "newimg = copy(ffox_resize)#ones(RGB{Float32}, size(target))\n",
    "xs = collect(range(-2, 2, length=1000000))\n",
    "rlosses = [drawloss(target, newimg, tri1, RGBA{Float32}(r, 0, 0, 0.75), SELoss(), RasterAlgorithmBounded()) for r in xs]\n",
    "bestr = xs[last(findmin(rlosses))]\n",
    "glosses = [drawloss(target, newimg, tri1, RGBA{Float32}(0, g, 0, 0.75), SELoss(), RasterAlgorithmBounded()) for g in xs]\n",
    "bestg = xs[last(findmin(glosses))]\n",
    "blosses = [drawloss(target, newimg, tri1, RGBA{Float32}(0, 0, b, 0.75), SELoss(), RasterAlgorithmBounded()) for b in xs]\n",
    "blosses2 = [drawloss(target, newimg, tri1, RGBA{Float32}(0, 0, b, 1.0), SELoss(), RasterAlgorithmBounded()) for b in xs]\n",
    "bestb = xs[last(findmin(blosses))]\n",
    "bestr, bestg, bestb"
   ]
  },
  {
   "cell_type": "code",
   "execution_count": null,
   "id": "d9ae4f0c-dce0-4806-a372-f7435b084e2a",
   "metadata": {},
   "outputs": [],
   "source": [
    "plotly()\n",
    "plot(xs, [rlosses, glosses, blosses])"
   ]
  },
  {
   "cell_type": "code",
   "execution_count": null,
   "id": "68ea9a71-fc8a-4b8f-a4c3-cb86448e133a",
   "metadata": {},
   "outputs": [],
   "source": [
    "bestb2 = xs[last(findmin(blosses2))]\n",
    "bestb, bestb2"
   ]
  },
  {
   "cell_type": "code",
   "execution_count": null,
   "id": "278f63f4-1191-4b5f-be8d-027277b2d363",
   "metadata": {},
   "outputs": [],
   "source": []
  },
  {
   "cell_type": "code",
   "execution_count": null,
   "id": "e6859d66-fe55-401c-8669-965dbe62d259",
   "metadata": {},
   "outputs": [],
   "source": [
    "xs[last(findmin(lossmap))]"
   ]
  },
  {
   "cell_type": "code",
   "execution_count": null,
   "id": "8d5dc2b0-28d9-498e-b593-ce1be7866ee8",
   "metadata": {},
   "outputs": [],
   "source": [
    "(0.70170283f0,0.5532264f0,0.3110801f0) ./ (0.7421574215742157, 0.5683056830568306, 0.3180731807318073)"
   ]
  },
  {
   "cell_type": "code",
   "execution_count": null,
   "id": "3bd4e406-54b4-4d2e-911e-3eb871d31c05",
   "metadata": {},
   "outputs": [],
   "source": [
    "blosses"
   ]
  },
  {
   "cell_type": "code",
   "execution_count": null,
   "id": "9b25f7e4-7ae7-455a-b2e5-4e0ac992c03b",
   "metadata": {},
   "outputs": [],
   "source": [
    "newimg = copy(hist.history[end].current)\n",
    "blosses2 = [drawloss(target, newimg, tri1, RGBA{Float32}(1, 0, b, 1.0), AELoss(), RasterAlgorithmBounded()) for b in xs]\n",
    "minval, minidx = findmin(blosses2)\n",
    "minval, minidx, xs[minidx]"
   ]
  },
  {
   "cell_type": "code",
   "execution_count": null,
   "id": "bb49b193-4c88-4f52-bf3b-dded0483f885",
   "metadata": {},
   "outputs": [],
   "source": [
    "newimg = copy(hist.history[end].current)\n",
    "col = averagepixel(target, tri1, RasterAlgorithmBounded())\n",
    "drawloss(target, newimg, tri1, RGB{Float32}(1, 0, col.b), AELoss(), RasterAlgorithmBounded())"
   ]
  },
  {
   "cell_type": "code",
   "execution_count": null,
   "id": "f6d5f5eb-1b36-4156-b946-7b251c64dff9",
   "metadata": {},
   "outputs": [],
   "source": [
    "import Paint.Raster2D: RasterState, rasterize\n",
    "\n",
    "struct PA <: RasterState\n",
    "    current::Array{RGB{Float32}, 2}\n",
    "    colour::RGB{Float32}\n",
    "    alpha::Float32\n",
    "    count::Int32\n",
    "end\n",
    "\n",
    "function Paint.Raster2D.rasterfunc(i, j, image, state::PA)\n",
    "    # @inbounds PA(state.current, state.colour + ((image[i, j] - state.current[i, j]) * state.alpha + state.current[i, j]), state.alpha, state.count + 1)\n",
    "    @inbounds PA(state.current, state.colour + ((image[i, j] - ((1.0f0 - state.alpha) .* state.current[i, j])) ./ state.alpha), state.alpha, state.count + 1)\n",
    "end\n",
    "\n",
    "function PAP(target, current, alpha, shape, algorithm = RasterAlgorithmPointwise())\n",
    "    state = PA(current, zero(RGB{Float32}), alpha, 0)\n",
    "    state = rasterize(target, shape, state, algorithm)\n",
    "    state.colour / Float32(max(Int32(1), state.count))\n",
    "end"
   ]
  },
  {
   "cell_type": "code",
   "execution_count": null,
   "id": "bcd5bf18-bd83-4bbc-a52d-3780624062d2",
   "metadata": {},
   "outputs": [],
   "source": [
    "newimg = copy(ffox_resize)#ones(RGB{Float32}, size(target))\n",
    "newcol = PAP(target, newimg, 0.75f0, tri1, RasterAlgorithmBounded())\n",
    "println(newcol)"
   ]
  },
  {
   "cell_type": "code",
   "execution_count": null,
   "id": "2e34963f-3eda-4d8a-b6be-29f9a9e6f31b",
   "metadata": {},
   "outputs": [],
   "source": [
    "2 .* (0.70170283f0,0.5532264f0,0.31108013f0) .- 1"
   ]
  },
  {
   "cell_type": "code",
   "execution_count": null,
   "id": "8270d48c-6459-4d67-8d38-94c5f1a3cf0e",
   "metadata": {},
   "outputs": [],
   "source": [
    "# testimage = RGB{Float32}.(Gray.(stack([collect(range(0, 1, length=200)) for row in 1:200])))\n",
    "newimg = ones(RGB{Float32}, size(target))\n",
    "x = PAP(newimg, newimg, 1.0f0, tri1, RasterAlgorithmBounded())\n",
    "avg = PAP(target, newimg, 1.0f0, tri1, RasterAlgorithmBounded())\n",
    "col = clamp01.((avg .- (0.5f0 .* x)) ./ (1.0f0 - 0.5f0))\n",
    "colalpha = RGBA{Float32}(col.r, col.g, col.b, 0.5f0)"
   ]
  },
  {
   "cell_type": "code",
   "execution_count": null,
   "id": "fc8335e1-a9ad-4c28-85eb-02c34fdf8a97",
   "metadata": {},
   "outputs": [],
   "source": [
    "println(x)\n",
    "println(avg)\n",
    "println(col)\n",
    "RGBA{Float32}(col.r, col.g, col.b, 0.5f0)"
   ]
  },
  {
   "cell_type": "code",
   "execution_count": null,
   "id": "a8ed9c26-0ca6-4795-a218-63405031c45f",
   "metadata": {},
   "outputs": [],
   "source": [
    "newimg = ones(RGB{Float32}, size(target))\n",
    "draw!(newimg, tri1, colalpha, RasterAlgorithmBounded())\n",
    "println(imloss(target, newimg, SELoss()))\n",
    "newimg"
   ]
  },
  {
   "cell_type": "code",
   "execution_count": null,
   "id": "c3c083ef-f11b-4ce2-945e-c0216eb83f93",
   "metadata": {},
   "outputs": [],
   "source": []
  },
  {
   "cell_type": "code",
   "execution_count": null,
   "id": "c80c1985-2c6d-4941-8feb-3db9e850c01a",
   "metadata": {},
   "outputs": [],
   "source": []
  },
  {
   "cell_type": "code",
   "execution_count": null,
   "id": "3887e7d3-54eb-495d-9190-b7cac3a0b5bc",
   "metadata": {},
   "outputs": [],
   "source": [
    "testimage = RGB{Float32}.(Gray.(stack([collect(range(0, 1, length=200)) for row in 1:200])))\n",
    "draw!(testimage, tri1, RGBA{Float32}(col.r, col.g, col.b, 0.5f0), RasterAlgorithmBounded())\n",
    "testimage"
   ]
  },
  {
   "cell_type": "code",
   "execution_count": null,
   "id": "eb499e65-a377-4d84-9ba5-7df4288cc16f",
   "metadata": {},
   "outputs": [],
   "source": [
    "tri1 = Triangle(Pair(0.25, 0.25), Pair(0.5, 0.25), Pair(0.5, 0.5))\n"
   ]
  },
  {
   "cell_type": "code",
   "execution_count": null,
   "id": "3370471d-0b70-443f-bfb8-a9f58750421f",
   "metadata": {},
   "outputs": [],
   "source": [
    "newimg"
   ]
  },
  {
   "cell_type": "code",
   "execution_count": null,
   "id": "c3945399-6990-441d-a101-363ac6e42988",
   "metadata": {},
   "outputs": [],
   "source": [
    "tris = hist.history[end].shapes[1:100]\n",
    "# cols = map(pix -> RGBA{Float32}(pix.r, pix.g, pix.b, 0.75), hist.history[end].current_colours[1:3])\n",
    "cols = hist.history[end].current_colours[1:100]\n",
    "background = hist.history[end].background"
   ]
  },
  {
   "cell_type": "code",
   "execution_count": null,
   "id": "39768cb8-28ed-46b9-aee4-10aa35ecf15a",
   "metadata": {},
   "outputs": [],
   "source": [
    "function makeloss(colours)\n",
    "    # newimg = zeros(RGB{Float32}, size(target)) .+ background\n",
    "    # for k in eachindex(tris)\n",
    "    #     draw!(newimg, tris[k], colours[k], RasterAlgorithmBounded())\n",
    "    # end\n",
    "    # imloss(target, newimg, SELoss())\n",
    "\n",
    "    w, h = size(target)\n",
    "    losstotal = 0.0f0\n",
    "\n",
    "    for y in 1:200\n",
    "        for x in 1:200\n",
    "            pix = copy(background)\n",
    "            for k in eachindex(tris)\n",
    "                if covers(tris[k], Point(x2u(x, w), y2v(y, h)))\n",
    "                    pix = over(RGBA{Float32}(colours[k].r, colours[k].g, colours[k].b, 0.75), pix)\n",
    "                end\n",
    "            end\n",
    "            losstotal += loss(pix, target[x, y], SELoss())\n",
    "        end\n",
    "    end\n",
    "\n",
    "    losstotal\n",
    "end\n",
    "\n",
    "makeloss(cols)"
   ]
  },
  {
   "cell_type": "code",
   "execution_count": null,
   "id": "6270ba47-2919-4bd2-8a2b-723c7dec79dc",
   "metadata": {},
   "outputs": [],
   "source": [
    "i = 10\n",
    "j = 22\n",
    "idx = ((j - 1) * 200 + (i - 1)) + 1\n",
    "println(target[i, j])\n",
    "println(target[idx])"
   ]
  },
  {
   "cell_type": "code",
   "execution_count": null,
   "id": "e247836c-839f-4e18-9307-33c3f99f2ee7",
   "metadata": {},
   "outputs": [],
   "source": []
  },
  {
   "cell_type": "code",
   "execution_count": null,
   "id": "8ad6523d-76d1-4b47-bd4a-d977f231e4e9",
   "metadata": {},
   "outputs": [],
   "source": [
    "A = zeros(120000, 300)\n",
    "y = zeros(120000)\n",
    "w, h = size(target)\n",
    "\n",
    "for j = 1:200\n",
    "    for i = 1:200\n",
    "        t_idx = ((j - 1) * 200 + (i - 1)) + 1\n",
    "        a_idx = (t_idx - 1) * 3 + 1\n",
    "        y[a_idx + 0] = target[t_idx].r\n",
    "        y[a_idx + 1] = target[t_idx].g\n",
    "        y[a_idx + 2] = target[t_idx].b\n",
    "        \n",
    "        pix = maketuple(copy(background))\n",
    "        @variables colours[1:(length(tris) * 3)]\n",
    "        for k in eachindex(tris)\n",
    "            if covers(tris[k], Point(x2u(i, w), y2v(j, h)))\n",
    "                colidx = 3 * (k - 1) + 1\n",
    "                pix = myover((colours[colidx + 0], colours[colidx + 1], colours[colidx + 2], 0.75f0), pix)\n",
    "            end\n",
    "        end\n",
    "\n",
    "        for i = 1:3\n",
    "            expr = expand(Num(pix[i]))\n",
    "            coeff::Float32 = 0.0f0\n",
    "            if expr.val isa Number\n",
    "                coeff = expr.val\n",
    "            else\n",
    "                coeff = expr.val.coeff\n",
    "                d = expr.val.dict\n",
    "                for k in keys(d)\n",
    "                    idx = findfirst(x -> isequal(x, k), colours)\n",
    "                    A[a_idx + (i - 1), idx] = d[k]\n",
    "                end\n",
    "            end\n",
    "            y[a_idx + (i - 1)] -= coeff\n",
    "        end\n",
    "    end\n",
    "end"
   ]
  },
  {
   "cell_type": "code",
   "execution_count": null,
   "id": "072d7603-b49f-4b72-ae83-cc270065eda0",
   "metadata": {},
   "outputs": [],
   "source": [
    "x = A \\ y"
   ]
  },
  {
   "cell_type": "code",
   "execution_count": null,
   "id": "7d1766d3-c949-4529-b6eb-8e96a36cf587",
   "metadata": {},
   "outputs": [],
   "source": [
    "colsarr = copy(cols)\n",
    "for k=1:100\n",
    "    colidx = 3 * (k - 1) + 1\n",
    "    colsarr[k] = RGB{Float32}(x[colidx + 0], x[colidx + 1], x[colidx + 2])\n",
    "end"
   ]
  },
  {
   "cell_type": "code",
   "execution_count": null,
   "id": "148f5367-ee17-42ef-a9cb-b0c5322ef6c9",
   "metadata": {},
   "outputs": [],
   "source": [
    "makeloss(cols)"
   ]
  },
  {
   "cell_type": "code",
   "execution_count": null,
   "id": "3d131206-af10-4479-81d1-dfc92361627c",
   "metadata": {},
   "outputs": [],
   "source": [
    "makeloss(colsarr)"
   ]
  },
  {
   "cell_type": "code",
   "execution_count": null,
   "id": "cdafac81-6187-458e-820e-6e6d499f34bc",
   "metadata": {},
   "outputs": [],
   "source": [
    "initial"
   ]
  },
  {
   "cell_type": "code",
   "execution_count": null,
   "id": "fd0f8508-aa90-4be5-be60-19e4a5511517",
   "metadata": {},
   "outputs": [],
   "source": [
    "initial2 = zeros(RGB{Float32}, size(target)) .+ background\n",
    "for k in eachindex(tris)\n",
    "    draw!(initial2, tris[k], colsarr[k], RasterAlgorithmBounded())\n",
    "end\n",
    "initial2"
   ]
  },
  {
   "cell_type": "code",
   "execution_count": null,
   "id": "139dba2f-7041-4ecd-a9c7-005380c59356",
   "metadata": {},
   "outputs": [],
   "source": [
    "diff = Gray.(initial .- initial2)\n",
    "diff ./ maximum(diff)"
   ]
  },
  {
   "cell_type": "code",
   "execution_count": null,
   "id": "3fd0ad87-f31d-4bdc-bc80-547dee6bf47c",
   "metadata": {},
   "outputs": [],
   "source": [
    "outimg = zeros(RGB{Float32}, 200, 200)\n",
    "for j = 1:200\n",
    "    for i = 1:200\n",
    "        t_idx = ((j - 1) * 200 + (i - 1)) + 1\n",
    "        a_idx = (t_idx - 1) * 3 + 1\n",
    "        outimg[i, j] = RGB{Float32}(y[a_idx + 0], y[a_idx + 1], y[a_idx + 2])\n",
    "    end\n",
    "end"
   ]
  },
  {
   "cell_type": "code",
   "execution_count": null,
   "id": "754010bc-1f74-4f21-a225-cf302061fc46",
   "metadata": {},
   "outputs": [],
   "source": [
    "using Symbolics"
   ]
  },
  {
   "cell_type": "code",
   "execution_count": null,
   "id": "5ce73a07-2fcd-446b-ac57-d5a199b77f83",
   "metadata": {},
   "outputs": [],
   "source": [
    "hist.history[end].current"
   ]
  },
  {
   "cell_type": "code",
   "execution_count": null,
   "id": "4e2fa6f0-4739-4056-91a6-1c7c0e31ab1d",
   "metadata": {},
   "outputs": [],
   "source": [
    "function myover(source, background)\n",
    "    sr, sg, sb, sa = source\n",
    "    br, bg, bb, ba = background\n",
    "\n",
    "    alpha_new = sa + ba * (1.0f0 - sa)\n",
    "    pixel_r = (sr * sa + ba * br * (1.0f0 - sa)) / alpha_new\n",
    "    pixel_g = (sg * sa + ba * bg * (1.0f0 - sa)) / alpha_new\n",
    "    pixel_b = (sb * sa + ba * bb * (1.0f0 - sa)) / alpha_new\n",
    "\n",
    "    \n",
    "    (pixel_r, pixel_g, pixel_b, alpha_new)\n",
    "end"
   ]
  },
  {
   "cell_type": "code",
   "execution_count": null,
   "id": "3c45e43c-9118-4c1a-83f3-2b7b61e75796",
   "metadata": {},
   "outputs": [],
   "source": [
    "maketuple(x::RGB{T}) where {T} = (x.r, x.g, x.b, 1.0f0)\n",
    "maketuple(x::RGBA{T}) where {T} = (x.r, x.g, x.b, x.alpha)"
   ]
  },
  {
   "cell_type": "code",
   "execution_count": null,
   "id": "8878e866-3463-47fa-94b2-77f489671af6",
   "metadata": {},
   "outputs": [],
   "source": [
    "@variables vals[1:3], vals2[1:3]"
   ]
  },
  {
   "cell_type": "code",
   "execution_count": null,
   "id": "2e81efe6-34f7-403e-b4ee-9a01a329b389",
   "metadata": {},
   "outputs": [],
   "source": [
    "x = RGBA{Float32}(1, 1, 1, 0.75)\n",
    "y = RGBA{Float32}(0.5, 0.5, 0.5, 1)\n",
    "expr = myover((vals[1], vals[2], vals[3], 0.75), (vals2[1], vals2[2], vals2[3], 0.5))\n",
    "expr = myover(maketuple(x), (expr[1], expr[2], expr[3], expr[4]))\n",
    "res = Symbolics.expand(expr[1])"
   ]
  },
  {
   "cell_type": "code",
   "execution_count": null,
   "id": "fbc1a404-15b5-46ef-8c8f-75727093b9df",
   "metadata": {},
   "outputs": [],
   "source": [
    "?Symbolics.expand"
   ]
  },
  {
   "cell_type": "code",
   "execution_count": null,
   "id": "bf0229cc-cd01-4a47-a2b4-245520067b8a",
   "metadata": {},
   "outputs": [],
   "source": [
    "using BenchmarkTools"
   ]
  },
  {
   "cell_type": "code",
   "execution_count": null,
   "id": "a2376cfc-881f-4991-aad7-d7ed766a1583",
   "metadata": {},
   "outputs": [],
   "source": [
    "haskey(res.val.dict, vals[2])"
   ]
  },
  {
   "cell_type": "code",
   "execution_count": null,
   "id": "18e4bb81-fc61-4d03-9a29-99face3e781e",
   "metadata": {},
   "outputs": [],
   "source": [
    "res.val.coeff"
   ]
  },
  {
   "cell_type": "code",
   "execution_count": null,
   "id": "b874ec43-ce14-45db-a5b4-bae99a499c44",
   "metadata": {},
   "outputs": [],
   "source": [
    "typeof(res.val)"
   ]
  },
  {
   "cell_type": "code",
   "execution_count": null,
   "id": "1fc3bd39-69a4-4ab4-8ca5-5c348a9d0a57",
   "metadata": {},
   "outputs": [],
   "source": [
    "typeof(res.val) == SymbolicUtils.BasicSymbolic{Real}"
   ]
  },
  {
   "cell_type": "code",
   "execution_count": null,
   "id": "f3442794-bebd-446f-bed7-8439c8fa9c72",
   "metadata": {},
   "outputs": [],
   "source": [
    "1.23 isa Number"
   ]
  },
  {
   "cell_type": "code",
   "execution_count": null,
   "id": "23a63dda-f577-414e-969f-36b23ce908bd",
   "metadata": {},
   "outputs": [],
   "source": [
    "res.val.dict"
   ]
  },
  {
   "cell_type": "code",
   "execution_count": null,
   "id": "b3078451-b818-46b3-abf7-a867aacf85f5",
   "metadata": {},
   "outputs": [],
   "source": [
    "collect(keys(res.val.dict))"
   ]
  },
  {
   "cell_type": "code",
   "execution_count": null,
   "id": "c2beb4a5-65ad-450e-8fc7-44fb1bf2e829",
   "metadata": {},
   "outputs": [],
   "source": [
    "vals[1]"
   ]
  },
  {
   "cell_type": "code",
   "execution_count": null,
   "id": "1281cd9e-28da-49ee-9b2f-6e36dcf8136f",
   "metadata": {},
   "outputs": [],
   "source": [
    "findfirst(vals, vals[1])"
   ]
  },
  {
   "cell_type": "code",
   "execution_count": null,
   "id": "9d4e84fc-a97a-4d2e-8bfa-8df3d8893d60",
   "metadata": {},
   "outputs": [],
   "source": [
    "findfirst(collect(vals), vals[1])"
   ]
  },
  {
   "cell_type": "code",
   "execution_count": null,
   "id": "8cd4434f-bdb2-48b4-8f0e-abe7be1e2033",
   "metadata": {},
   "outputs": [],
   "source": [
    "findfirst(x -> isequal(x, vals[2]), vals)"
   ]
  },
  {
   "cell_type": "code",
   "execution_count": null,
   "id": "924a2844-e039-44ef-9549-2325377e4d29",
   "metadata": {},
   "outputs": [],
   "source": [
    "vals[1] === vals[1]"
   ]
  },
  {
   "cell_type": "code",
   "execution_count": null,
   "id": "b2aa064f-b13e-4c7f-a957-cde302d88d69",
   "metadata": {},
   "outputs": [],
   "source": [
    "vals[1]"
   ]
  },
  {
   "cell_type": "code",
   "execution_count": null,
   "id": "28b0bf54-586d-47bb-b43c-e7e6f7fcebf6",
   "metadata": {},
   "outputs": [],
   "source": [
    "isequal(collect(keys(res.val.dict))[2], vals[2])"
   ]
  },
  {
   "cell_type": "code",
   "execution_count": null,
   "id": "e9ade4e4-41c5-43a5-8977-e5b384df6cf1",
   "metadata": {},
   "outputs": [],
   "source": []
  }
 ],
 "metadata": {
  "kernelspec": {
   "display_name": "Julia 1.9.4",
   "language": "julia",
   "name": "julia-1.9"
  },
  "language_info": {
   "file_extension": ".jl",
   "mimetype": "application/julia",
   "name": "julia",
   "version": "1.9.4"
  }
 },
 "nbformat": 4,
 "nbformat_minor": 5
}
