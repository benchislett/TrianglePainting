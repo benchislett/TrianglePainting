{
 "cells": [
  {
   "cell_type": "markdown",
   "id": "1bbb07c4-a5e3-4524-a0fc-64d62cb02934",
   "metadata": {},
   "source": [
    "## Dependencies and Setup\n",
    "\n",
    "Load the target image, and test some triangles at different colour values"
   ]
  },
  {
   "cell_type": "code",
   "execution_count": null,
   "id": "bdac6330-0ee1-44a4-975f-bb5b2190e69f",
   "metadata": {},
   "outputs": [],
   "source": [
    "using Revise\n",
    "using Paint\n",
    "using Serialization\n",
    "using Images, ImageShow\n",
    "using Plots\n",
    "using StaticArrays\n",
    "using ImageFeatures\n",
    "using IntervalSets\n",
    "using Combinatorics\n",
    "using StatsBase\n",
    "using Zygote\n",
    "using Symbolics"
   ]
  },
  {
   "cell_type": "code",
   "execution_count": null,
   "id": "d63e4f1e-91a6-43d6-9808-f2a3cf43be88",
   "metadata": {},
   "outputs": [],
   "source": [
    "target = float.(load(\"../lisa.png\"))\n",
    "hist = Serialization.deserialize(\"../output/simresult/simlog_100-prims_1000000-batch_10-epoch_100-refine.bin\");"
   ]
  },
  {
   "cell_type": "code",
   "execution_count": null,
   "id": "d0dd5892-0007-4a3b-aa57-014c14fd7c67",
   "metadata": {},
   "outputs": [],
   "source": [
    "tris = hist.history[end].shapes;"
   ]
  },
  {
   "cell_type": "code",
   "execution_count": null,
   "id": "bc75dbad-60b1-4b06-9197-0f105ce99bdb",
   "metadata": {},
   "outputs": [],
   "source": [
    "function drawstate(cols, bg, alpha)\n",
    "    initial = zeros(RGB{Float32}, size(target)) .+ bg\n",
    "    for k in eachindex(tris)\n",
    "        draw!(initial, tris[k], RGBA{Float32}(cols[k].r, cols[k].g, cols[k].b, alpha), RasterAlgorithmScanline())\n",
    "    end\n",
    "    initial\n",
    "end"
   ]
  },
  {
   "cell_type": "code",
   "execution_count": null,
   "id": "b8b346d5-dc01-41b7-bbad-93bf4b67ae90",
   "metadata": {},
   "outputs": [],
   "source": [
    "simalpha = 0.75"
   ]
  },
  {
   "cell_type": "code",
   "execution_count": null,
   "id": "ce8d0991-0938-42ed-aa07-8ed01f8a4a0d",
   "metadata": {},
   "outputs": [],
   "source": [
    "@time alphacols, alphabg = alpharecolor(target, tris, simalpha, RasterAlgorithmScanline());\n",
    "alphacols"
   ]
  },
  {
   "cell_type": "code",
   "execution_count": null,
   "id": "edb51ea0-f69e-4d9c-9f19-51793acfd74a",
   "metadata": {},
   "outputs": [],
   "source": [
    "@time opaquecols, opaquebg = opaquerecolor(target, tris, RasterAlgorithmScanline());\n",
    "opaquecols"
   ]
  },
  {
   "cell_type": "code",
   "execution_count": null,
   "id": "afc0a1f1-05ed-48cb-9540-436f2e2cfae3",
   "metadata": {},
   "outputs": [],
   "source": [
    "plots = []\n",
    "for alphaval in [simalpha, 1.0]\n",
    "    for idx in 1:2\n",
    "        cols, bg = [(alphacols, alphabg), (opaquecols, opaquebg)][idx]\n",
    "        name = [\"Alpha-$simalpha Recolor\", \"Opaque Recolor\"][idx]\n",
    "        img = drawstate(cols, bg, alphaval)\n",
    "        loss = imloss(img, target, AELoss())\n",
    "        plt = plot(img, size=size(target), showaxis=false, ticks=false, title=\"$name \\n α=$alphaval, loss=$loss\", titlefontsize=12)\n",
    "        push!(plots, plt)\n",
    "    end\n",
    "end"
   ]
  },
  {
   "cell_type": "code",
   "execution_count": null,
   "id": "97310791-ddd0-4cc9-9af2-64cd8aa96a83",
   "metadata": {},
   "outputs": [],
   "source": [
    "plot(plots..., size=size(target) .* 3)"
   ]
  },
  {
   "cell_type": "code",
   "execution_count": null,
   "id": "9accf1aa-0ce5-4717-8b1c-a238fc4c0594",
   "metadata": {},
   "outputs": [],
   "source": []
  }
 ],
 "metadata": {
  "kernelspec": {
   "display_name": "Julia 1.9.4",
   "language": "julia",
   "name": "julia-1.9"
  },
  "language_info": {
   "file_extension": ".jl",
   "mimetype": "application/julia",
   "name": "julia",
   "version": "1.9.4"
  }
 },
 "nbformat": 4,
 "nbformat_minor": 5
}
