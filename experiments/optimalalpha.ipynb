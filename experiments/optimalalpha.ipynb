{
 "cells": [
  {
   "cell_type": "markdown",
   "id": "1bbb07c4-a5e3-4524-a0fc-64d62cb02934",
   "metadata": {},
   "source": [
    "## Dependencies and Setup\n",
    "\n",
    "Load the target image, and test some triangles at different colour values"
   ]
  },
  {
   "cell_type": "code",
   "execution_count": null,
   "id": "bdac6330-0ee1-44a4-975f-bb5b2190e69f",
   "metadata": {},
   "outputs": [],
   "source": [
    "using Revise\n",
    "using Paint\n",
    "using Serialization\n",
    "using Images, ImageShow\n",
    "using Plots\n",
    "using StaticArrays\n",
    "using ImageFeatures\n",
    "using IntervalSets\n",
    "using Combinatorics\n",
    "using StatsBase\n",
    "using Zygote"
   ]
  },
  {
   "cell_type": "code",
   "execution_count": null,
   "id": "d63e4f1e-91a6-43d6-9808-f2a3cf43be88",
   "metadata": {},
   "outputs": [],
   "source": [
    "target = float.(load(\"../lisa.png\"))\n",
    "hist = Serialization.deserialize(\"../output/simresult/simlog_100-prims_1000000-batch_10-epoch_100-refine.bin\")\n",
    "nothing"
   ]
  },
  {
   "cell_type": "code",
   "execution_count": null,
   "id": "f80eda9b-51a6-471e-9b76-6fb36e66710e",
   "metadata": {},
   "outputs": [],
   "source": [
    "ffox = float.(load(\"../firefox.jpg\"))\n",
    "ffox_resize = imresize(ffox, size(target))"
   ]
  },
  {
   "cell_type": "code",
   "execution_count": null,
   "id": "6a4a74a8-29e2-4d69-aeee-e854301ec8f7",
   "metadata": {},
   "outputs": [],
   "source": [
    "tri1 = Triangle(Pair(0.25, 0.25), Pair(0.5, 0.25), Pair(0.5, 0.5))\n",
    "tri2 = Triangle(Pair(0.75, 0.75), Pair(0.5, 0.75), Pair(0.5, 0.5))\n",
    "nothing"
   ]
  },
  {
   "cell_type": "code",
   "execution_count": null,
   "id": "3c54f3b9-416a-4a8f-a345-d1c0c4eaf633",
   "metadata": {},
   "outputs": [],
   "source": [
    "# newimg = copy(hist.history[end].current)\n",
    "newimg = copy(ffox_resize)#ones(RGB{Float32}, size(target))\n",
    "# draw!(newimg, tri1, RGBA{Float32}(0.8508511f0,0.7766122f0,0.6555407f0, 0.5), RasterAlgorithmBounded())\n",
    "draw!(newimg, tri1, RGBA{Float32}(0.7276809f0,0.5967741f0,0.31770712f0, 0.75), RasterAlgorithmBounded())\n",
    "# draw!(newimg, tri1, RGBA{Float32}(0.70170283f0,0.5532264f0,0.3110801f0, 0.5), RasterAlgorithmBounded())\n",
    "println(imloss(target, newimg, SELoss()))\n",
    "newimg"
   ]
  },
  {
   "cell_type": "code",
   "execution_count": null,
   "id": "bf06cb59-b34d-4abc-85d8-f928fb84a480",
   "metadata": {},
   "outputs": [],
   "source": [
    "# newimg = copy(hist.history[end].current)\n",
    "newimg = copy(ffox_resize)#ones(RGB{Float32}, size(target))\n",
    "xs = collect(range(-2, 2, length=1000000))\n",
    "rlosses = [drawloss(target, newimg, tri1, RGBA{Float32}(r, 0, 0, 0.75), SELoss(), RasterAlgorithmBounded()) for r in xs]\n",
    "bestr = xs[last(findmin(rlosses))]\n",
    "glosses = [drawloss(target, newimg, tri1, RGBA{Float32}(0, g, 0, 0.75), SELoss(), RasterAlgorithmBounded()) for g in xs]\n",
    "bestg = xs[last(findmin(glosses))]\n",
    "blosses = [drawloss(target, newimg, tri1, RGBA{Float32}(0, 0, b, 0.75), SELoss(), RasterAlgorithmBounded()) for b in xs]\n",
    "blosses2 = [drawloss(target, newimg, tri1, RGBA{Float32}(0, 0, b, 1.0), SELoss(), RasterAlgorithmBounded()) for b in xs]\n",
    "bestb = xs[last(findmin(blosses))]\n",
    "bestr, bestg, bestb"
   ]
  },
  {
   "cell_type": "code",
   "execution_count": null,
   "id": "d9ae4f0c-dce0-4806-a372-f7435b084e2a",
   "metadata": {},
   "outputs": [],
   "source": [
    "plotly()\n",
    "plot(xs, [rlosses, glosses, blosses])"
   ]
  },
  {
   "cell_type": "code",
   "execution_count": null,
   "id": "68ea9a71-fc8a-4b8f-a4c3-cb86448e133a",
   "metadata": {},
   "outputs": [],
   "source": [
    "bestb2 = xs[last(findmin(blosses2))]\n",
    "bestb, bestb2"
   ]
  },
  {
   "cell_type": "code",
   "execution_count": null,
   "id": "278f63f4-1191-4b5f-be8d-027277b2d363",
   "metadata": {},
   "outputs": [],
   "source": []
  },
  {
   "cell_type": "code",
   "execution_count": null,
   "id": "e6859d66-fe55-401c-8669-965dbe62d259",
   "metadata": {},
   "outputs": [],
   "source": [
    "xs[last(findmin(lossmap))]"
   ]
  },
  {
   "cell_type": "code",
   "execution_count": null,
   "id": "8d5dc2b0-28d9-498e-b593-ce1be7866ee8",
   "metadata": {},
   "outputs": [],
   "source": [
    "(0.70170283f0,0.5532264f0,0.3110801f0) ./ (0.7421574215742157, 0.5683056830568306, 0.3180731807318073)"
   ]
  },
  {
   "cell_type": "code",
   "execution_count": null,
   "id": "3bd4e406-54b4-4d2e-911e-3eb871d31c05",
   "metadata": {},
   "outputs": [],
   "source": [
    "blosses"
   ]
  },
  {
   "cell_type": "code",
   "execution_count": null,
   "id": "9b25f7e4-7ae7-455a-b2e5-4e0ac992c03b",
   "metadata": {},
   "outputs": [],
   "source": [
    "newimg = copy(hist.history[end].current)\n",
    "blosses2 = [drawloss(target, newimg, tri1, RGBA{Float32}(1, 0, b, 1.0), AELoss(), RasterAlgorithmBounded()) for b in xs]\n",
    "minval, minidx = findmin(blosses2)\n",
    "minval, minidx, xs[minidx]"
   ]
  },
  {
   "cell_type": "code",
   "execution_count": null,
   "id": "bb49b193-4c88-4f52-bf3b-dded0483f885",
   "metadata": {},
   "outputs": [],
   "source": [
    "newimg = copy(hist.history[end].current)\n",
    "col = averagepixel(target, tri1, RasterAlgorithmBounded())\n",
    "drawloss(target, newimg, tri1, RGB{Float32}(1, 0, col.b), AELoss(), RasterAlgorithmBounded())"
   ]
  },
  {
   "cell_type": "code",
   "execution_count": null,
   "id": "f6d5f5eb-1b36-4156-b946-7b251c64dff9",
   "metadata": {},
   "outputs": [],
   "source": [
    "import Paint.Raster2D: RasterState, rasterize\n",
    "\n",
    "struct PA <: RasterState\n",
    "    current::Array{RGB{Float32}, 2}\n",
    "    colour::RGB{Float32}\n",
    "    alpha::Float32\n",
    "    count::Int32\n",
    "end\n",
    "\n",
    "function Paint.Raster2D.rasterfunc(i, j, image, state::PA)\n",
    "    # @inbounds PA(state.current, state.colour + ((image[i, j] - state.current[i, j]) * state.alpha + state.current[i, j]), state.alpha, state.count + 1)\n",
    "    @inbounds PA(state.current, state.colour + ((image[i, j] - ((1.0f0 - state.alpha) .* state.current[i, j])) ./ state.alpha), state.alpha, state.count + 1)\n",
    "end\n",
    "\n",
    "function PAP(target, current, alpha, shape, algorithm = RasterAlgorithmPointwise())\n",
    "    state = PA(current, zero(RGB{Float32}), alpha, 0)\n",
    "    state = rasterize(target, shape, state, algorithm)\n",
    "    state.colour / Float32(max(Int32(1), state.count))\n",
    "end"
   ]
  },
  {
   "cell_type": "code",
   "execution_count": null,
   "id": "bcd5bf18-bd83-4bbc-a52d-3780624062d2",
   "metadata": {},
   "outputs": [],
   "source": [
    "newimg = copy(ffox_resize)#ones(RGB{Float32}, size(target))\n",
    "newcol = PAP(target, newimg, 0.75f0, tri1, RasterAlgorithmBounded())\n",
    "println(newcol)"
   ]
  },
  {
   "cell_type": "code",
   "execution_count": null,
   "id": "2e34963f-3eda-4d8a-b6be-29f9a9e6f31b",
   "metadata": {},
   "outputs": [],
   "source": [
    "2 .* (0.70170283f0,0.5532264f0,0.31108013f0) .- 1"
   ]
  },
  {
   "cell_type": "code",
   "execution_count": null,
   "id": "8270d48c-6459-4d67-8d38-94c5f1a3cf0e",
   "metadata": {},
   "outputs": [],
   "source": [
    "# testimage = RGB{Float32}.(Gray.(stack([collect(range(0, 1, length=200)) for row in 1:200])))\n",
    "newimg = ones(RGB{Float32}, size(target))\n",
    "x = PAP(newimg, newimg, 1.0f0, tri1, RasterAlgorithmBounded())\n",
    "avg = PAP(target, newimg, 1.0f0, tri1, RasterAlgorithmBounded())\n",
    "col = clamp01.((avg .- (0.5f0 .* x)) ./ (1.0f0 - 0.5f0))\n",
    "colalpha = RGBA{Float32}(col.r, col.g, col.b, 0.5f0)"
   ]
  },
  {
   "cell_type": "code",
   "execution_count": null,
   "id": "fc8335e1-a9ad-4c28-85eb-02c34fdf8a97",
   "metadata": {},
   "outputs": [],
   "source": [
    "println(x)\n",
    "println(avg)\n",
    "println(col)\n",
    "RGBA{Float32}(col.r, col.g, col.b, 0.5f0)"
   ]
  },
  {
   "cell_type": "code",
   "execution_count": null,
   "id": "a8ed9c26-0ca6-4795-a218-63405031c45f",
   "metadata": {},
   "outputs": [],
   "source": [
    "newimg = ones(RGB{Float32}, size(target))\n",
    "draw!(newimg, tri1, colalpha, RasterAlgorithmBounded())\n",
    "println(imloss(target, newimg, SELoss()))\n",
    "newimg"
   ]
  },
  {
   "cell_type": "code",
   "execution_count": null,
   "id": "c3c083ef-f11b-4ce2-945e-c0216eb83f93",
   "metadata": {},
   "outputs": [],
   "source": []
  },
  {
   "cell_type": "code",
   "execution_count": null,
   "id": "c80c1985-2c6d-4941-8feb-3db9e850c01a",
   "metadata": {},
   "outputs": [],
   "source": []
  },
  {
   "cell_type": "code",
   "execution_count": null,
   "id": "3887e7d3-54eb-495d-9190-b7cac3a0b5bc",
   "metadata": {},
   "outputs": [],
   "source": [
    "testimage = RGB{Float32}.(Gray.(stack([collect(range(0, 1, length=200)) for row in 1:200])))\n",
    "draw!(testimage, tri1, RGBA{Float32}(col.r, col.g, col.b, 0.5f0), RasterAlgorithmBounded())\n",
    "testimage"
   ]
  },
  {
   "cell_type": "code",
   "execution_count": null,
   "id": "eb499e65-a377-4d84-9ba5-7df4288cc16f",
   "metadata": {},
   "outputs": [],
   "source": [
    "tri1 = Triangle(Pair(0.25, 0.25), Pair(0.5, 0.25), Pair(0.5, 0.5))\n"
   ]
  },
  {
   "cell_type": "code",
   "execution_count": null,
   "id": "3370471d-0b70-443f-bfb8-a9f58750421f",
   "metadata": {},
   "outputs": [],
   "source": [
    "newimg"
   ]
  },
  {
   "cell_type": "code",
   "execution_count": null,
   "id": "c3945399-6990-441d-a101-363ac6e42988",
   "metadata": {},
   "outputs": [],
   "source": [
    "tris = hist.history[end].shapes[1:100]\n",
    "# cols = map(pix -> RGBA{Float32}(pix.r, pix.g, pix.b, 0.75), hist.history[end].current_colours[1:3])\n",
    "cols = hist.history[end].current_colours[1:100]\n",
    "background = hist.history[end].background"
   ]
  },
  {
   "cell_type": "code",
   "execution_count": null,
   "id": "39768cb8-28ed-46b9-aee4-10aa35ecf15a",
   "metadata": {},
   "outputs": [],
   "source": [
    "function makeloss(colours)\n",
    "    # newimg = zeros(RGB{Float32}, size(target)) .+ background\n",
    "    # for k in eachindex(tris)\n",
    "    #     draw!(newimg, tris[k], colours[k], RasterAlgorithmBounded())\n",
    "    # end\n",
    "    # imloss(target, newimg, SELoss())\n",
    "\n",
    "    w, h = size(target)\n",
    "    losstotal = 0.0f0\n",
    "\n",
    "    for y in 1:200\n",
    "        for x in 1:200\n",
    "            pix = copy(background)\n",
    "            for k in eachindex(tris)\n",
    "                if covers(tris[k], Point(x2u(x, w), y2v(y, h)))\n",
    "                    pix = over(RGBA{Float32}(colours[k].r, colours[k].g, colours[k].b, 0.75), pix)\n",
    "                end\n",
    "            end\n",
    "            losstotal += loss(pix, target[x, y], SELoss())\n",
    "        end\n",
    "    end\n",
    "\n",
    "    losstotal\n",
    "end\n",
    "\n",
    "makeloss(cols)"
   ]
  },
  {
   "cell_type": "code",
   "execution_count": null,
   "id": "8ad6523d-76d1-4b47-bd4a-d977f231e4e9",
   "metadata": {},
   "outputs": [],
   "source": []
  },
  {
   "cell_type": "code",
   "execution_count": null,
   "id": "2e81efe6-34f7-403e-b4ee-9a01a329b389",
   "metadata": {},
   "outputs": [],
   "source": [
    "cols[1] .+ (0.01f0 .* grads[1])"
   ]
  },
  {
   "cell_type": "code",
   "execution_count": null,
   "id": "754010bc-1f74-4f21-a225-cf302061fc46",
   "metadata": {},
   "outputs": [],
   "source": []
  },
  {
   "cell_type": "code",
   "execution_count": null,
   "id": "8878e866-3463-47fa-94b2-77f489671af6",
   "metadata": {},
   "outputs": [],
   "source": []
  },
  {
   "cell_type": "code",
   "execution_count": null,
   "id": "5ce73a07-2fcd-446b-ac57-d5a199b77f83",
   "metadata": {},
   "outputs": [],
   "source": []
  }
 ],
 "metadata": {
  "kernelspec": {
   "display_name": "Julia 1.9.4",
   "language": "julia",
   "name": "julia-1.9"
  },
  "language_info": {
   "file_extension": ".jl",
   "mimetype": "application/julia",
   "name": "julia",
   "version": "1.9.4"
  }
 },
 "nbformat": 4,
 "nbformat_minor": 5
}
