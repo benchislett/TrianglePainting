{
 "cells": [
  {
   "cell_type": "markdown",
   "id": "1e3e59af-d706-4bb4-ac9b-221a90555bb6",
   "metadata": {},
   "source": [
    "## Dependencies and Setup\n",
    "\n",
    "Load the target image, and a saved simulation on which we will try to find an optimal next placement"
   ]
  },
  {
   "cell_type": "code",
   "execution_count": null,
   "id": "f0679700-5913-4d1b-8aa2-33f99d9c016e",
   "metadata": {},
   "outputs": [],
   "source": [
    "using Revise\n",
    "using Paint\n",
    "using Serialization\n",
    "using Images, ImageShow\n",
    "using Plots\n",
    "using StaticArrays\n",
    "using ImageFeatures\n",
    "using IntervalSets\n",
    "using Combinatorics\n",
    "using StatsBase"
   ]
  },
  {
   "cell_type": "code",
   "execution_count": null,
   "id": "3d319d0e-8d74-4e1f-9fb3-163397aaaa5a",
   "metadata": {},
   "outputs": [],
   "source": [
    "target = float.(load(\"../lisa.png\"))\n",
    "hist = Serialization.deserialize(\"../output/simresult/simlog_100-prims_100000-batch_3-epoch_100-refine.bin\")\n",
    "baseimage = hist.history[end].current\n",
    "baseimage"
   ]
  },
  {
   "cell_type": "markdown",
   "id": "da28e227-a40d-4c7e-a993-c6d273437110",
   "metadata": {},
   "source": [
    "### Raw Difference Map\n",
    "\n",
    "Convert the RGB difference to grayscale, take the absolute value, and normalize"
   ]
  },
  {
   "cell_type": "code",
   "execution_count": null,
   "id": "4b020e0f-cb7c-4a58-9227-bda3dcefbed3",
   "metadata": {},
   "outputs": [],
   "source": [
    "diff = Gray.(abs.(baseimage .- target))\n",
    "diff = diff ./ maximum(diff)"
   ]
  },
  {
   "cell_type": "markdown",
   "id": "244c26ad-6368-4c0b-af3a-720350a2a9b6",
   "metadata": {},
   "source": [
    "### Blurred Difference Map\n",
    "\n",
    "Apply a gaussian blur to the difference map, to emulate local accumulation as in the area of a shape.\n",
    "Some algorithms require more contrast, so we re-normalize for use in some cases"
   ]
  },
  {
   "cell_type": "code",
   "execution_count": null,
   "id": "1dc15858-6719-414b-b681-61982fea0aa2",
   "metadata": {},
   "outputs": [],
   "source": [
    "blurdiffraw = imfilter(diff, Kernel.gaussian(2)) # A 9x9 Gaussian Filter Kernel\n",
    "blurdiff = blurdiffraw ./ maximum(blurdiffraw)\n",
    "plot(plot(blurdiffraw), plot(blurdiff), axis=false, ticks=false)"
   ]
  },
  {
   "cell_type": "markdown",
   "id": "e93e691b-233f-445b-b1fc-3d79ece99ae0",
   "metadata": {},
   "source": [
    "## Sampling Strategies"
   ]
  },
  {
   "cell_type": "markdown",
   "id": "d427e57e-2d00-4a41-937c-7846ce63507a",
   "metadata": {},
   "source": [
    "### Top-N Selection"
   ]
  },
  {
   "cell_type": "code",
   "execution_count": null,
   "id": "835b1826-480d-4a91-9c95-eff5631b423d",
   "metadata": {},
   "outputs": [],
   "source": [
    "function sample_topN(image ; N)\n",
    "    perm = reverse(sortperm([image...]))\n",
    "    points = perm[1:N]\n",
    "    return collect(map(linearidx -> CartesianIndices(image)[linearidx].I, points))\n",
    "end"
   ]
  },
  {
   "cell_type": "markdown",
   "id": "40d109aa-a27e-4a64-bc0c-8c7d61da7981",
   "metadata": {},
   "source": [
    "### Probabilistic Selection"
   ]
  },
  {
   "cell_type": "code",
   "execution_count": null,
   "id": "100aab42-acc8-49f6-af3f-264e82ffcb70",
   "metadata": {},
   "outputs": [],
   "source": [
    "function sample_prob(image ; N, scale_factor = 5.0)\n",
    "    points = sample(1:prod(size(image)), Weights(reshape(Float32.(image).^scale_factor, prod(size(image)))), N)\n",
    "    return collect(map(linearidx -> CartesianIndices(image)[linearidx].I, points))\n",
    "end"
   ]
  },
  {
   "cell_type": "markdown",
   "id": "9c466ae7-e0a9-4ac6-8512-05c03fc21b06",
   "metadata": {},
   "source": [
    "### Pure Random"
   ]
  },
  {
   "cell_type": "code",
   "execution_count": null,
   "id": "123127f8-a6e3-4028-8bab-be09b2da6cd3",
   "metadata": {},
   "outputs": [],
   "source": [
    "function sample_random(image ; N)\n",
    "    points = sample(1:prod(size(image)), N)\n",
    "    return collect(map(linearidx -> CartesianIndices(image)[linearidx].I, points))\n",
    "end"
   ]
  },
  {
   "cell_type": "markdown",
   "id": "1f1eabf2-ec9d-446d-875a-a925d91511aa",
   "metadata": {},
   "source": [
    "### Fastcorners Feature Detection"
   ]
  },
  {
   "cell_type": "code",
   "execution_count": null,
   "id": "3b12a6f9-aa46-470c-aaf3-9137e43d1f7a",
   "metadata": {},
   "outputs": [],
   "source": [
    "function cornerthreshold(image, N)\n",
    "    getpoints(thresh) = Keypoints(fastcorners(image, 12, thresh))\n",
    "\n",
    "    if length(getpoints(0.0)) <= N\n",
    "        println(\"Fastcorners failure, no points detected!\")\n",
    "        return 0.0\n",
    "    end\n",
    "\n",
    "    # binary search to find the best threshold\n",
    "    lower = 0.0\n",
    "    upper = 0.5\n",
    "    while abs(upper - lower) > 0.01\n",
    "        midpoint = (lower + upper) ./ 2\n",
    "        if length(getpoints(midpoint)) < N\n",
    "            upper = midpoint\n",
    "        else\n",
    "            lower = midpoint\n",
    "        end\n",
    "        # println(lower, \" \", upper, \" \", length(getpoints(lower)), \" \", length(getpoints(upper)))\n",
    "    end\n",
    "\n",
    "    return lower\n",
    "end\n",
    "\n",
    "function sample_fastcorners(image ; N)\n",
    "    return collect(map(idx -> idx.I, Keypoints(fastcorners(image, 12, cornerthreshold(image, N)))[1:N]))\n",
    "end"
   ]
  },
  {
   "cell_type": "markdown",
   "id": "873ad765-df5c-455a-acf4-005f6276a98a",
   "metadata": {},
   "source": [
    "### ORB Feature Detection"
   ]
  },
  {
   "cell_type": "code",
   "execution_count": null,
   "id": "eb3d96d9-844f-4e77-8d6c-3dde4952579a",
   "metadata": {},
   "outputs": [],
   "source": [
    "function sample_orb(image ; N)\n",
    "    orb_params = ORB(num_keypoints = N, threshold = cornerthreshold(image, N) / 2.0)\n",
    "    _, ret_keypoints = create_descriptor(image, orb_params)\n",
    "    return collect(map(idx -> idx.I, ret_keypoints))\n",
    "end"
   ]
  },
  {
   "cell_type": "markdown",
   "id": "ea12d7b5-61bc-4837-b9c1-370dd005b2e6",
   "metadata": {},
   "source": [
    "## Evaluation"
   ]
  },
  {
   "cell_type": "markdown",
   "id": "08674f36-41e0-4e2c-8cbf-b04363edf260",
   "metadata": {},
   "source": [
    "### Plots"
   ]
  },
  {
   "cell_type": "code",
   "execution_count": null,
   "id": "8933714c-b034-49d3-8bf4-32b16be3f278",
   "metadata": {},
   "outputs": [],
   "source": [
    "function plotpoints(image, points ; title = \"\")\n",
    "    w, h = size(image)\n",
    "    plt = plot(image, axis=false, ticks=false, xlims=(1,w), ylims=(1,h), legend=false, title=title)\n",
    "    scatter!(plt, map(reverse, points), markersize=4)\n",
    "    plt\n",
    "end\n",
    "\n",
    "NumPoints = 300\n",
    "Samplers = [(x; N) -> [], sample_random, sample_topN, sample_prob, sample_fastcorners, sample_orb]\n",
    "Titles = [\"Reference\", \"Random\", \"Top N\", \"Probabilistic\", \"Fastcorners\", \"ORB Features\"]\n",
    "\n",
    "plots = []\n",
    "for i in eachindex(Samplers)\n",
    "    plttop = plotpoints(diff, Samplers[i](diff, N=NumPoints), title=Titles[i])\n",
    "    pltbot = plotpoints(blurdiffraw, Samplers[i](blurdiff, N=NumPoints))\n",
    "    push!(plots, plot(plttop, pltbot, layout=(2,1)))\n",
    "end\n",
    "\n",
    "plot(plots..., layout=grid(1,length(Samplers)), size=(256 * length(Samplers),256 * 2))"
   ]
  },
  {
   "cell_type": "markdown",
   "id": "97cb9f5e-9760-415c-9382-25eff70ce556",
   "metadata": {},
   "source": [
    "### Combinatorial Search"
   ]
  },
  {
   "cell_type": "code",
   "execution_count": null,
   "id": "332c8eb9-a1f5-4764-914a-8168c4f4f709",
   "metadata": {},
   "outputs": [],
   "source": [
    "function evaluatesampler(sampler ; N, refine=0)\n",
    "    points = sampler(diff, N = N)\n",
    "    points = map(p -> Point(p[1] / 200.0, p[2] / 200.0), points)\n",
    "    tris = collect(map(Triangle, (combinations(points, 3))))\n",
    "    cols = averagepixel_batch(target, tris, RasterAlgorithmScanline())\n",
    "    losses = drawloss_batch(target, baseimage, tris, cols, SELoss(), RasterAlgorithmScanline())\n",
    "\n",
    "    for i=1:3\n",
    "    for k=1:refine\n",
    "        rngs = randn(Float32, length(tris), 6) * 0.025f0\n",
    "        newtris = mutate_batch(tris, rngs)\n",
    "        newcols = averagepixel_batch(target, newtris, RasterAlgorithmScanline())\n",
    "        newlosses = drawloss_batch(target, baseimage, newtris, newcols, SELoss(), RasterAlgorithmScanline())\n",
    "        for i=1:length(tris)\n",
    "            if newlosses[i] < losses[i]\n",
    "                losses[i] = newlosses[i]\n",
    "                tris[i] = newtris[i]\n",
    "                cols[i] = newcols[i]\n",
    "            end\n",
    "        end\n",
    "    end\n",
    "    end\n",
    "\n",
    "    minloss, minidx = findmin(losses)\n",
    "    return minloss, tris[minidx], cols[minidx]\n",
    "end\n",
    "\n",
    "@time minloss, mintri, mincol = evaluatesampler(sample_prob, N = 300, refine = 100)\n",
    "println(minloss)\n",
    "newimage = copy(baseimage)\n",
    "draw!(newimage, mintri, RGB{Float32}(1, 0, 1), RasterAlgorithmScanline())\n",
    "newimage"
   ]
  }
 ],
 "metadata": {
  "kernelspec": {
   "display_name": "Julia 1.9.4",
   "language": "julia",
   "name": "julia-1.9"
  },
  "language_info": {
   "file_extension": ".jl",
   "mimetype": "application/julia",
   "name": "julia",
   "version": "1.9.4"
  }
 },
 "nbformat": 4,
 "nbformat_minor": 5
}
