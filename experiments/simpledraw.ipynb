{
 "cells": [
  {
   "cell_type": "code",
   "execution_count": null,
   "id": "6416eaef-4d58-4ac8-a212-b7348219a7d4",
   "metadata": {},
   "outputs": [],
   "source": [
    "using Images\n",
    "import SimpleDraw as SD\n",
    "using BenchmarkTools\n",
    "using Paint\n",
    "using StaticArrays"
   ]
  },
  {
   "cell_type": "code",
   "execution_count": null,
   "id": "efc7b83f-cb1a-4047-a499-0c4bd456cde9",
   "metadata": {},
   "outputs": [],
   "source": [
    "import Base.size, Base.getindex, Base.setindex!\n",
    "\n",
    "mutable struct MyArr{Arr, Pix} <: AbstractMatrix{Bool}\n",
    "    background::Arr\n",
    "    target::Arr\n",
    "    colour::Pix\n",
    "    total::Float32\n",
    "end\n",
    "\n",
    "function loss(source::RGB{Float32}, target::RGB{Float32})::Float32\n",
    "    dr::Float32 = source.r - target.r\n",
    "    dg::Float32 = source.g - target.g\n",
    "    db::Float32 = source.b - target.b\n",
    "    return (dr * dr) + (dg * dg) + (db * db)\n",
    "end\n",
    "\n",
    "Base.size(arr::MyArr) = size(arr.background)\n",
    "Base.getindex(::MyArr, ::Int) = 0\n",
    "Base.getindex(::MyArr, ::Int, ::Int) = 0\n",
    "# Base.setindex!(::MyArr, ::Bool, ::Int) = nothing\n",
    "function Base.setindex!(arr::MyArr, val::Bool, i::Int, j::Int)\n",
    "    @inbounds arr.total += loss(arr.colour, arr.target[i, j]) - loss(arr.background[i, j], arr.target[i, j])\n",
    "end"
   ]
  },
  {
   "cell_type": "code",
   "execution_count": null,
   "id": "1f380f77-541e-4925-80b5-56c4ea474999",
   "metadata": {},
   "outputs": [],
   "source": [
    "col = RGB{Float32}(1, 0, 1)\n",
    "image = MyArr(zeros(RGB{Float32}, 200, 200), ones(RGB{Float32}, 200, 200), col, 0.0f0)\n",
    "\n",
    "# create the shape\n",
    "pts = [9.0, 5, 14, 19, 30, 4] ./ 32.0 .* 200.0\n",
    "pts = trunc.(Int32, pts)\n",
    "shape = SD.FilledTriangle(SD.Point(pts[1], pts[2]), SD.Point(pts[3], pts[4]), SD.Point(pts[5], pts[6]))\n",
    "tri = Triangle(SVector{6, Float32}(pts ./ 200.0))\n",
    "\n",
    "# we will draw on the boolean image with the \"color\" true\n",
    "color = true\n",
    "\n",
    "# draw the shape on image\n",
    "\n",
    "\n",
    "image = MyArr(zeros(RGB{Float32}, 200, 200), ones(RGB{Float32}, 200, 200), RGB{Float32}(1, 0, 1), 0.0f0)\n",
    "SD.draw!(image, shape, color)\n",
    "\n",
    "println(image.total)\n",
    "println(drawloss(image.target, image.background, tri, col, SELoss(), RasterAlgorithmScanline()))"
   ]
  },
  {
   "cell_type": "code",
   "execution_count": null,
   "id": "e41fadd0-d64b-4c77-a3a9-5c3bb95f6f16",
   "metadata": {},
   "outputs": [],
   "source": [
    "@btime SD.draw!($image, $shape, $color)"
   ]
  },
  {
   "cell_type": "code",
   "execution_count": null,
   "id": "8dab12a9-5de2-4318-8510-6066855d8959",
   "metadata": {},
   "outputs": [],
   "source": [
    "@btime drawloss($image.target, $image.background, $tri, $col, $SELoss(), $RasterAlgorithmScanline())"
   ]
  },
  {
   "cell_type": "code",
   "execution_count": null,
   "id": "a5725aef-63f2-4344-ba9b-d5cc9dc3ce85",
   "metadata": {},
   "outputs": [],
   "source": []
  }
 ],
 "metadata": {
  "kernelspec": {
   "display_name": "Julia 1.9.4",
   "language": "julia",
   "name": "julia-1.9"
  },
  "language_info": {
   "file_extension": ".jl",
   "mimetype": "application/julia",
   "name": "julia",
   "version": "1.9.4"
  }
 },
 "nbformat": 4,
 "nbformat_minor": 5
}
