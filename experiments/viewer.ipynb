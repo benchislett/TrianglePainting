{
 "cells": [
  {
   "cell_type": "markdown",
   "id": "1bbb07c4-a5e3-4524-a0fc-64d62cb02934",
   "metadata": {},
   "source": [
    "## Dependencies and Setup\n",
    "\n",
    "Load the target image, and a pair of simulations to compare"
   ]
  },
  {
   "cell_type": "code",
   "execution_count": null,
   "id": "bdac6330-0ee1-44a4-975f-bb5b2190e69f",
   "metadata": {
    "jupyter": {
     "source_hidden": true
    }
   },
   "outputs": [],
   "source": [
    "using Revise\n",
    "using Paint\n",
    "using Serialization\n",
    "using Images, ImageShow\n",
    "using Plots\n",
    "using Evolutionary\n",
    "using BlackBoxOptim\n",
    "using StaticArrays\n",
    "using ImageFeatures\n",
    "using IntervalSets\n",
    "using ReinforcementLearning\n",
    "using ReinforcementLearningBase\n",
    "using ReinforcementLearningZoo\n",
    "using Combinatorics\n",
    "using StatsBase"
   ]
  },
  {
   "cell_type": "code",
   "execution_count": null,
   "id": "d63e4f1e-91a6-43d6-9808-f2a3cf43be88",
   "metadata": {},
   "outputs": [],
   "source": [
    "target = float.(load(\"../lisa.png\"))\n",
    "hist1 = Serialization.deserialize(\"../output/simresult/simlog_100-prims_1000-batch_10-epoch_100-refine.bin\")\n",
    "# hist2 = Serialization.deserialize(\"../output/simresult/simlog_100-prims_100000-batch_10-epoch_500-refine.bin\")\n",
    "# hists = [hist1, hist2]\n",
    "hists = [hist1]\n",
    "minlen = minimum(map(hist -> length(hist.history), hists))"
   ]
  },
  {
   "cell_type": "markdown",
   "id": "d351cf3f-4837-4ff9-9032-49c88a6a8f15",
   "metadata": {},
   "source": [
    "## Animations\n",
    "\n",
    "Animate the states from the simulation histories, shape-by-shape.\n",
    "Note the changing colour due to the re-coloring step."
   ]
  },
  {
   "cell_type": "code",
   "execution_count": null,
   "id": "26fda16c-ea61-4bb2-9b68-b4dbe9ba15cf",
   "metadata": {},
   "outputs": [],
   "source": [
    "function drawstate(state, size)\n",
    "    initial = zeros(RGB{Float32}, size) .+ state.background\n",
    "    for k in eachindex(state.shapes)\n",
    "        draw!(initial, state.shapes[k], RGBA{Float32}(state.colours[k].r, state.colours[k].g, state.colours[k].b, state.alpha), RasterAlgorithmScanline())\n",
    "    end\n",
    "    initial\n",
    "end"
   ]
  },
  {
   "cell_type": "code",
   "execution_count": null,
   "id": "9b1c8481-6ca0-43be-96ef-9dc401a4485f",
   "metadata": {},
   "outputs": [],
   "source": [
    "gr()\n",
    "plots = []\n",
    "anim_singles = @animate for i = 1:minlen+250\n",
    "    ival = min(i, minlen)\n",
    "    frame = []\n",
    "    for hist in hists\n",
    "        res = hist.history[ival]\n",
    "        drawsize = size(target)\n",
    "        img = drawstate(res, drawsize)\n",
    "        plt = plot(img, size=drawsize, showaxis=false, ticks=false, title=string(ival-1))\n",
    "        push!(frame, plt)\n",
    "    end\n",
    "    push!(plots, plot(frame..., layout=(1,length(frame)), size=(512,256)))\n",
    "end\n",
    "gif(anim_singles, \"/tmp/tmp.gif\", fps=12, show_msg=false)"
   ]
  },
  {
   "cell_type": "markdown",
   "id": "7d790f5f-5809-4e3a-946e-49cb31155628",
   "metadata": {},
   "source": [
    "## Loss Charts\n",
    "\n",
    "Plot the loss of each history, as total per-step and delta between-steps."
   ]
  },
  {
   "cell_type": "code",
   "execution_count": null,
   "id": "5d9b6717-e74f-4e81-8ffd-ec94c2b30a13",
   "metadata": {},
   "outputs": [],
   "source": [
    "plotly()\n",
    "\n",
    "function losses(hist)\n",
    "    vals = [state.best for state in hist.history]\n",
    "    diffs = [vals[i] - vals[i - 1] for i = 2:length(vals)]\n",
    "    vals, diffs\n",
    "end\n",
    "\n",
    "lossset = collect(map(losses, hists))\n",
    "vals = map(first, lossset)\n",
    "diffs = map(last, lossset)\n",
    "plot(plot(vals), plot(diffs), size=(1024, 512), legend=false)"
   ]
  },
  {
   "cell_type": "code",
   "execution_count": null,
   "id": "6a4a74a8-29e2-4d69-aeee-e854301ec8f7",
   "metadata": {},
   "outputs": [],
   "source": []
  }
 ],
 "metadata": {
  "kernelspec": {
   "display_name": "Julia 1.9.4",
   "language": "julia",
   "name": "julia-1.9"
  },
  "language_info": {
   "file_extension": ".jl",
   "mimetype": "application/julia",
   "name": "julia",
   "version": "1.9.4"
  }
 },
 "nbformat": 4,
 "nbformat_minor": 5
}
