{
 "cells": [
  {
   "cell_type": "code",
   "execution_count": null,
   "id": "29091a3f-9aea-4669-9c73-ac2fe0d40bea",
   "metadata": {},
   "outputs": [],
   "source": [
    "using Revise\n",
    "using Paint"
   ]
  },
  {
   "cell_type": "code",
   "execution_count": null,
   "id": "bdac6330-0ee1-44a4-975f-bb5b2190e69f",
   "metadata": {},
   "outputs": [],
   "source": [
    "using Serialization\n",
    "using Images, ImageShow\n",
    "using Plots\n",
    "using Evolutionary\n",
    "using BlackBoxOptim\n",
    "using StaticArrays\n",
    "using ImageFeatures\n",
    "using IntervalSets\n",
    "using ReinforcementLearning\n",
    "using ReinforcementLearningBase\n",
    "using ReinforcementLearningZoo\n",
    "using Combinatorics\n",
    "using StatsBase"
   ]
  },
  {
   "cell_type": "code",
   "execution_count": null,
   "id": "a448ebf7-a678-4563-908a-529821c8558f",
   "metadata": {},
   "outputs": [],
   "source": [
    "target = float.(load(\"../lisa.png\"))"
   ]
  },
  {
   "cell_type": "code",
   "execution_count": null,
   "id": "d63e4f1e-91a6-43d6-9808-f2a3cf43be88",
   "metadata": {},
   "outputs": [],
   "source": [
    "hist1 = Serialization.deserialize(\"../output/simresult/simlog_100-prims_100000-batch_3-epoch_100-refine.bin\")\n",
    "hist2 = Serialization.deserialize(\"../output/simresult/simlog_100-prims_10x-blackbox_5000-batch_5-epoch_250-refine.bin\")\n",
    "hists = [hist1, hist2]\n",
    "minlen = minimum(map(hist -> length(hist.history), hists))"
   ]
  },
  {
   "cell_type": "code",
   "execution_count": null,
   "id": "26fda16c-ea61-4bb2-9b68-b4dbe9ba15cf",
   "metadata": {},
   "outputs": [],
   "source": [
    "function drawstate(state, size)\n",
    "    initial = zeros(RGB{Float32}, size) .+ state.background\n",
    "    for k in eachindex(state.shapes)\n",
    "        draw!(initial, state.shapes[k], state.current_colours[k], RasterAlgorithmScanline())\n",
    "    end\n",
    "    initial\n",
    "end"
   ]
  },
  {
   "cell_type": "code",
   "execution_count": null,
   "id": "9b1c8481-6ca0-43be-96ef-9dc401a4485f",
   "metadata": {},
   "outputs": [],
   "source": [
    "gr()\n",
    "plots = []\n",
    "anim_singles = @animate for i = 1:minlen+250\n",
    "    ival = min(i, minlen)\n",
    "    frame = []\n",
    "    for hist in hists\n",
    "        res = hist.history[ival]\n",
    "        drawsize = size(target)\n",
    "        img = drawstate(res, drawsize)\n",
    "        plt = plot(img, size=drawsize, showaxis=false, ticks=false, title=string(ival-1))\n",
    "        push!(frame, plt)\n",
    "    end\n",
    "    push!(plots, plot(frame..., layout=(1,length(frame)), size=(512,256)))\n",
    "end\n",
    "gif(anim_singles, \"/tmp/tmp.gif\", fps=12, show_msg=false)"
   ]
  },
  {
   "cell_type": "code",
   "execution_count": null,
   "id": "5d9b6717-e74f-4e81-8ffd-ec94c2b30a13",
   "metadata": {},
   "outputs": [],
   "source": [
    "plotly()\n",
    "\n",
    "function losses(hist)\n",
    "    vals = [state.best for state in hist.history]\n",
    "    diffs = [vals[i] - vals[i - 1] for i = 2:length(vals)]\n",
    "    vals, diffs\n",
    "end\n",
    "\n",
    "ps = collect(map(first, map(losses, hists)))\n",
    "ps[1] = ps[1] ./ 3.0\n",
    "plot(ps)"
   ]
  },
  {
   "cell_type": "code",
   "execution_count": null,
   "id": "4d779dec-fbc1-4b9b-a712-bd105290845d",
   "metadata": {},
   "outputs": [],
   "source": []
  },
  {
   "cell_type": "code",
   "execution_count": null,
   "id": "887173aa-a8c4-4b82-b6dc-8c52d4145746",
   "metadata": {},
   "outputs": [],
   "source": []
  },
  {
   "cell_type": "code",
   "execution_count": null,
   "id": "0bcf79e0-5a40-4af6-bff8-9b446879073f",
   "metadata": {},
   "outputs": [],
   "source": []
  }
 ],
 "metadata": {
  "kernelspec": {
   "display_name": "Julia 1.9.4",
   "language": "julia",
   "name": "julia-1.9"
  },
  "language_info": {
   "file_extension": ".jl",
   "mimetype": "application/julia",
   "name": "julia",
   "version": "1.9.4"
  }
 },
 "nbformat": 4,
 "nbformat_minor": 5
}
