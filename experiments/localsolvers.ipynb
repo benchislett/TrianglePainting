{
 "cells": [
  {
   "cell_type": "markdown",
   "id": "1bbb07c4-a5e3-4524-a0fc-64d62cb02934",
   "metadata": {},
   "source": [
    "## Dependencies and Setup\n",
    "\n",
    "Load the target image, and a pair of simulations to compare"
   ]
  },
  {
   "cell_type": "code",
   "execution_count": null,
   "id": "bdac6330-0ee1-44a4-975f-bb5b2190e69f",
   "metadata": {},
   "outputs": [],
   "source": [
    "using Revise\n",
    "using Paint\n",
    "using Serialization\n",
    "using Images, ImageShow\n",
    "using Plots\n",
    "using Evolutionary\n",
    "using BlackBoxOptim\n",
    "using StaticArrays\n",
    "using ImageFeatures\n",
    "using IntervalSets\n",
    "using ReinforcementLearning\n",
    "using ReinforcementLearningBase\n",
    "using ReinforcementLearningZoo\n",
    "using Combinatorics\n",
    "using StatsBase\n",
    "using Random"
   ]
  },
  {
   "cell_type": "code",
   "execution_count": null,
   "id": "477529e9-7264-4f4b-8165-b1fb5c2a4027",
   "metadata": {},
   "outputs": [],
   "source": [
    "makecol(x) = RGBA{Float32}(x.r, x.g, x.b, 0.5)"
   ]
  },
  {
   "cell_type": "code",
   "execution_count": null,
   "id": "f597e314-fffb-4ed3-b5f9-85cf4f5bc946",
   "metadata": {},
   "outputs": [],
   "source": [
    "img = ones(RGB{Float32}, (200, 200))\n",
    "tri1 = Triangle(Point(0.2, 0.4), Point(0.7, 0.2), Point(0.9, 0.9))\n",
    "draw!(img, tri1, RGB{Float32}(1, 0, 0), RasterAlgorithmScanline())\n",
    "img"
   ]
  },
  {
   "cell_type": "code",
   "execution_count": null,
   "id": "4b79cb7b-91ac-4260-b4d6-17ebcbd98ddc",
   "metadata": {},
   "outputs": [],
   "source": [
    "function disp(tri)\n",
    "    newimg = copy(img)\n",
    "    draw!(newimg, tri, RGBA{Float32}(0, 0, 1, 0.5), RasterAlgorithmScanline())\n",
    "    newimg\n",
    "end"
   ]
  },
  {
   "cell_type": "code",
   "execution_count": null,
   "id": "eec03286-fd35-4bc1-9bd7-d30661893f4f",
   "metadata": {},
   "outputs": [],
   "source": [
    "blank = ones(RGB{Float32}, (200, 200))\n",
    "base = imloss(blank, img, SELoss())\n",
    "function err(tri)\n",
    "    col = averagepixel(img, blank, 1.0, tri, RasterAlgorithmScanline())\n",
    "    base + drawloss(img, blank, tri, col, SELoss(), RasterAlgorithmScanline())\n",
    "end"
   ]
  },
  {
   "cell_type": "code",
   "execution_count": null,
   "id": "e393be37-5212-47b6-b4e2-b052c0ff96ca",
   "metadata": {},
   "outputs": [],
   "source": [
    "optimtribase = Triangle(Point(0.4, 0.4), Point(0.5, 0.6), Point(0.6, 0.4))\n",
    "optimtri = optimtribase\n",
    "println(err(optimtri))\n",
    "disp(optimtri)"
   ]
  },
  {
   "cell_type": "code",
   "execution_count": null,
   "id": "d7c4d3a1-6fbb-46b7-b552-ff2d02283a92",
   "metadata": {},
   "outputs": [],
   "source": [
    "function refine_allparam_fixed(base, target, basetri ; niters = 1000, factor = 0.005f0)\n",
    "    for i = 1:niters\n",
    "        deltas = randn(Float32, 6) .* factor\n",
    "        newt = mutate(basetri, deltas)\n",
    "        if err(newt) < err(basetri)\n",
    "            basetri = newt\n",
    "        end\n",
    "    end\n",
    "    basetri, err(basetri)\n",
    "end\n",
    "\n",
    "function refine_allparam_scheduled(base, target, basetri ; niters = 1000, sched=Pair(0.05,0.005))\n",
    "    for i = 1:niters\n",
    "        factor = range(sched.first, sched.second, length=niters)[i]\n",
    "        deltas = randn(Float32, 6) .* factor\n",
    "        newt = mutate(basetri, deltas)\n",
    "        if err(newt) < err(basetri)\n",
    "            basetri = newt\n",
    "        end\n",
    "    end\n",
    "    basetri, err(basetri)\n",
    "end\n",
    "\n",
    "function refine_allparam_custom(base, target, basetri ; niters = 1000)\n",
    "    for i = 1:niters\n",
    "        factor = 0.001f0\n",
    "        if i < 250\n",
    "            factor = range(0.05, 0.005f0, length=250)[i]\n",
    "        end\n",
    "        deltas = randn(Float32, 6) .* factor\n",
    "        newt = mutate(basetri, deltas)\n",
    "        if err(newt) < err(basetri)\n",
    "            basetri = newt\n",
    "        end\n",
    "    end\n",
    "    basetri, err(basetri)\n",
    "end\n",
    "\n",
    "function refine_oneparam_fixed(base, target, basetri ; niters = 1000, factor = 0.005f0)\n",
    "    for i = 1:niters\n",
    "        which = rand(1:6)\n",
    "        deltas = zeros(6)\n",
    "        deltas[which] = randn(Float32) * factor\n",
    "        newt = mutate(basetri, deltas)\n",
    "        if err(newt) < err(basetri)\n",
    "            basetri = newt\n",
    "        end\n",
    "    end\n",
    "    basetri, err(basetri)\n",
    "end\n",
    "\n",
    "function refine_oneparam_scheduled(base, target, basetri ; niters = 1000, sched=Pair(0.05,0.005))\n",
    "    for i = 1:niters\n",
    "        which = rand(1:6)\n",
    "        deltas = zeros(6)\n",
    "        factor = range(sched.first, sched.second, length=niters)[i]\n",
    "        deltas[which] = randn(Float32) * factor\n",
    "        newt = mutate(basetri, deltas)\n",
    "        if err(newt) < err(basetri)\n",
    "            basetri = newt\n",
    "        end\n",
    "    end\n",
    "    basetri, err(basetri)\n",
    "end"
   ]
  },
  {
   "cell_type": "code",
   "execution_count": null,
   "id": "9f81acef-5c85-4cc7-94cc-8eab237b8b4e",
   "metadata": {},
   "outputs": [],
   "source": [
    "plotly()\n",
    "\n",
    "xs = collect(10:100:1000)\n",
    "arrays = Vector{Vector{Float64}}([])\n",
    "\n",
    "# for alg in [refine_allparam_fixed, refine_allparam_scheduled, refine_oneparam_fixed, refine_oneparam_scheduled]\n",
    "for alg in [refine_allparam_scheduled, refine_allparam_custom]\n",
    "    losses = []\n",
    "    \n",
    "    for i in xs\n",
    "        trials = []\n",
    "        for k = 1:10\n",
    "            push!(trials, alg(base, img, optimtribase; niters=i)[2])\n",
    "        end\n",
    "        push!(losses, mean(trials))\n",
    "    end\n",
    "    push!(arrays, losses)\n",
    "end\n",
    "\n",
    "plot(xs, arrays)"
   ]
  },
  {
   "cell_type": "code",
   "execution_count": null,
   "id": "f81c9542-f22d-4996-b124-efc48a479a36",
   "metadata": {},
   "outputs": [],
   "source": [
    "plotly()\n",
    "\n",
    "xs = collect(10:100:2000)\n",
    "arrays = Vector{Vector{Float64}}([])\n",
    "\n",
    "for sched in [Pair(0.01, 0.001), Pair(0.05,0.001), Pair(0.05,0.005), Pair(0.5,0.001), Pair(0.5,0.005), Pair(0.005, 0.0005), Pair(0.01, 0.0005)]\n",
    "    losses = []\n",
    "    \n",
    "    for i in xs\n",
    "        trials = []\n",
    "        for k = 1:10\n",
    "            push!(trials, refine_allparam_scheduled(base, img, optimtribase; niters=i, sched=sched)[2])\n",
    "        end\n",
    "        push!(losses, mean(trials))\n",
    "    end\n",
    "    push!(arrays, losses)\n",
    "end\n",
    "\n",
    "plot(xs, arrays)"
   ]
  },
  {
   "cell_type": "code",
   "execution_count": null,
   "id": "6aa799e5-9114-4f76-95a4-b51ddc3cd43b",
   "metadata": {},
   "outputs": [],
   "source": [
    "@time tri, loss = refine_allparam_fixed(base, img, optimtribase, niters=1000)\n",
    "println(loss)\n",
    "disp(tri)"
   ]
  },
  {
   "cell_type": "code",
   "execution_count": null,
   "id": "6717fcc8-8ab8-43d3-a2f7-65d9b3a2cc80",
   "metadata": {},
   "outputs": [],
   "source": []
  },
  {
   "cell_type": "code",
   "execution_count": null,
   "id": "335b5f01-ddf9-4b96-ba5a-bfe4f781e266",
   "metadata": {},
   "outputs": [],
   "source": []
  }
 ],
 "metadata": {
  "kernelspec": {
   "display_name": "Julia 1.9.4",
   "language": "julia",
   "name": "julia-1.9"
  },
  "language_info": {
   "file_extension": ".jl",
   "mimetype": "application/julia",
   "name": "julia",
   "version": "1.9.4"
  }
 },
 "nbformat": 4,
 "nbformat_minor": 5
}
