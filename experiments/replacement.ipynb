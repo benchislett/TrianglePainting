{
 "cells": [
  {
   "cell_type": "markdown",
   "id": "69a852cb-27f8-461d-9f10-78e1117b3745",
   "metadata": {},
   "source": [
    "### Dependencies and Setup\n",
    "\n",
    "Load the target image, and a saved simulation to examine"
   ]
  },
  {
   "cell_type": "code",
   "execution_count": null,
   "id": "29091a3f-9aea-4669-9c73-ac2fe0d40bea",
   "metadata": {
    "jupyter": {
     "source_hidden": true
    }
   },
   "outputs": [],
   "source": [
    "using Revise\n",
    "using Paint\n",
    "using Serialization\n",
    "using Images, ImageShow\n",
    "using Plots\n",
    "using Evolutionary\n",
    "using BlackBoxOptim\n",
    "using StaticArrays\n",
    "using ImageFeatures\n",
    "using IntervalSets\n",
    "using ReinforcementLearning\n",
    "using ReinforcementLearningBase\n",
    "using ReinforcementLearningZoo\n",
    "using Combinatorics\n",
    "using StatsBase"
   ]
  },
  {
   "cell_type": "code",
   "execution_count": null,
   "id": "a448ebf7-a678-4563-908a-529821c8558f",
   "metadata": {
    "jupyter": {
     "source_hidden": true
    }
   },
   "outputs": [],
   "source": [
    "target = float.(load(\"../lisa.png\"))\n",
    "hist = Serialization.deserialize(\"../output/simresult/simlog_100-prims_100000-batch_3-epoch_100-refine.bin\")\n",
    "state = hist.history[end]\n",
    "nothing"
   ]
  },
  {
   "cell_type": "markdown",
   "id": "c5d95ab3-cd14-404f-85c1-02319a7ea00b",
   "metadata": {},
   "source": [
    "### Find the least costly shape to remove\n",
    "\n",
    "For each shape, re-color and re-draw without it and compare the loss difference. Find the shape the has least cost to remove.\n",
    "\n",
    "It seems that this cost tends to be very high, especially for the earlier triangles. Removing them might not be very useful."
   ]
  },
  {
   "cell_type": "code",
   "execution_count": null,
   "id": "887173aa-a8c4-4b82-b6dc-8c52d4145746",
   "metadata": {},
   "outputs": [],
   "source": [
    "baseloss = imloss(target, state.current, SELoss())\n",
    "\n",
    "function without(idx)\n",
    "    shapes = [state.shapes[1:idx-1] ; state.shapes[idx+1:end]]\n",
    "    # cols = [state.current_colours[1:idx-1] ; state.current_colours[idx+1:end]]\n",
    "    # bg = state.background\n",
    "    cols, bg = opaquerecolor(target, shapes, RasterAlgorithmScanline())\n",
    "    \n",
    "    img = zero(target) .+ bg\n",
    "    for k in eachindex(shapes)\n",
    "        draw!(img, shapes[k], cols[k], RasterAlgorithmScanline())\n",
    "    end\n",
    "\n",
    "    imloss(target, img, SELoss()) - baseloss, img\n",
    "end\n",
    "\n",
    "minloss, minidx = findmin(map(first, map(without, 1:75)))"
   ]
  },
  {
   "cell_type": "markdown",
   "id": "9bd9cfe2-c264-49ca-bb08-a606ecc52566",
   "metadata": {},
   "source": [
    "### Shape Deltas\n",
    "\n",
    "For each shape, draw the parts of it that are visible in the final image."
   ]
  },
  {
   "cell_type": "code",
   "execution_count": null,
   "id": "0bcf79e0-5a40-4af6-bff8-9b446879073f",
   "metadata": {},
   "outputs": [],
   "source": [
    "anim_singles = @animate for i = 1:100\n",
    "    img = ones(RGB{Float32}, size(target))\n",
    "    draw!(img, state.shapes[i], state.current_colours[i], RasterAlgorithmScanline())\n",
    "    for k = i+1:length(state.shapes)\n",
    "        draw!(img, state.shapes[k], one(RGB{Float32}), RasterAlgorithmScanline())\n",
    "    end\n",
    "\n",
    "    plot(img, size=(256,256), title=\"$i\", axis=false, ticks=false)\n",
    "end\n",
    "gif(anim_singles, \"/tmp/tmp.gif\", fps=3, show_msg=false)"
   ]
  }
 ],
 "metadata": {
  "kernelspec": {
   "display_name": "Julia 1.9.4",
   "language": "julia",
   "name": "julia-1.9"
  },
  "language_info": {
   "file_extension": ".jl",
   "mimetype": "application/julia",
   "name": "julia",
   "version": "1.9.4"
  }
 },
 "nbformat": 4,
 "nbformat_minor": 5
}
