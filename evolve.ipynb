{
 "cells": [
  {
   "cell_type": "code",
   "execution_count": null,
   "id": "9a4288ce-4d10-4d62-9fb1-3c8221d0811e",
   "metadata": {},
   "outputs": [],
   "source": [
    "from PIL import Image\n",
    "import numpy as np\n",
    "import scipy\n",
    "import time\n",
    "import sys"
   ]
  },
  {
   "cell_type": "code",
   "execution_count": null,
   "id": "56f800ff-69ba-4def-b7d8-9de90d2db533",
   "metadata": {},
   "outputs": [],
   "source": [
    "sys.path.append(\"build\")\n",
    "import evoapp\n",
    "\n",
    "loss_gpu_state = evoapp.LossState()\n",
    "loss_gpu_state.init()"
   ]
  },
  {
   "cell_type": "code",
   "execution_count": null,
   "id": "2c51837d-3ad0-445e-8f49-d9f023aaf947",
   "metadata": {},
   "outputs": [],
   "source": [
    "target_np = np.asarray(Image.open('lisa.png')).astype(np.float32) / 255.0"
   ]
  },
  {
   "cell_type": "code",
   "execution_count": null,
   "id": "dc771f8a-c913-4ea1-a154-2bf27ba029e5",
   "metadata": {},
   "outputs": [],
   "source": [
    "def loss(f):\n",
    "    dna = evoapp.DNA.fromarray(f)\n",
    "    return evoapp.loss(dna, target_np)\n",
    "def loss_gpu(f):\n",
    "    dna = evoapp.DNA.fromarray(f)\n",
    "    return evoapp.loss_gpu(dna, target_np, loss_gpu_state)"
   ]
  },
  {
   "cell_type": "code",
   "execution_count": null,
   "id": "41db6995",
   "metadata": {},
   "outputs": [],
   "source": [
    "tmp_dna = np.random.rand(450).astype(np.float32)\n",
    "print(loss_gpu(tmp_dna))\n",
    "print(loss_gpu(tmp_dna))"
   ]
  },
  {
   "cell_type": "code",
   "execution_count": null,
   "id": "9a679997-5986-4a27-839f-a3e91dd96f27",
   "metadata": {},
   "outputs": [],
   "source": [
    "tmp_dna = np.random.rand(450).astype(np.float32)\n",
    "start = time.time()\n",
    "for i in range(1000):\n",
    "    loss_gpu(tmp_dna)\n",
    "end = time.time()\n",
    "print(1 / ((end - start) / 1000))"
   ]
  },
  {
   "cell_type": "code",
   "execution_count": null,
   "id": "615c8339-84f4-4bb2-911a-a7824f7586d2",
   "metadata": {},
   "outputs": [],
   "source": [
    "dna = evoapp.DNA.fromarray(np.random.rand(450).astype(np.float32))"
   ]
  },
  {
   "cell_type": "code",
   "execution_count": null,
   "id": "a779d1be-29d0-428d-8b31-1640f54f8d96",
   "metadata": {},
   "outputs": [],
   "source": [
    "best = np.random.rand(450).astype(np.float32)"
   ]
  },
  {
   "cell_type": "code",
   "execution_count": null,
   "id": "2e9751e0-24ad-4ec5-8785-05b55dcde545",
   "metadata": {},
   "outputs": [],
   "source": [
    "best = np.load(\"build/best.npy\")"
   ]
  },
  {
   "cell_type": "code",
   "execution_count": null,
   "id": "5603eb6c-f684-4476-aed9-49599633f6df",
   "metadata": {},
   "outputs": [],
   "source": [
    "best_fun = loss(best)\n",
    "improvements = []\n",
    "\n",
    "print_interval = 10000\n",
    "i = 0\n",
    "prev_improve_count = 0\n",
    "prev_improve_amount = best_fun\n",
    "start = time.time()\n",
    "while True:\n",
    "    data = np.copy(best)\n",
    "    idx = np.random.randint(0,450)\n",
    "    # data[idx] = np.clip(data[idx] + (np.random.rand() - 0.5) * 0.25, 0, 1)\n",
    "    data[idx] = np.random.rand()\n",
    "    result_fun = loss_gpu(data)\n",
    "    if result_fun < best_fun:\n",
    "        best = data\n",
    "        best_fun = result_fun\n",
    "        improvements.append(best_fun)\n",
    "        prev_improve_count += 1\n",
    "    \n",
    "    i += 1\n",
    "    if i % print_interval == 0:\n",
    "        end = time.time()\n",
    "        print(\"Iterations: {:.2f}/s | Improvements: {} ({:.2f}%) | Best: {:.2f}\".format(print_interval / (end - start), prev_improve_count, float(100 * prev_improve_count) / print_interval, best_fun))\n",
    "        prev_improve_count = 0\n",
    "        prev_improve_amount = best_fun\n",
    "        start = time.time()"
   ]
  },
  {
   "cell_type": "code",
   "execution_count": null,
   "id": "0c38b435-af55-4fbf-9475-9063b9b43a8e",
   "metadata": {},
   "outputs": [],
   "source": [
    "np.save(\"build/best.npy\", best)"
   ]
  },
  {
   "cell_type": "code",
   "execution_count": null,
   "id": "54bb8bad-cb5b-4655-9b1c-b3457a804a3b",
   "metadata": {},
   "outputs": [],
   "source": [
    "loss(best)"
   ]
  },
  {
   "cell_type": "code",
   "execution_count": null,
   "id": "d533748d",
   "metadata": {},
   "outputs": [],
   "source": [
    "loss_gpu(best)"
   ]
  },
  {
   "cell_type": "code",
   "execution_count": null,
   "id": "045dfc30-1371-418c-aa70-ac73c208a27f",
   "metadata": {},
   "outputs": [],
   "source": [
    "Image.fromarray((evoapp.render(evoapp.DNA.fromarray(best)) * 255).astype(np.uint8))"
   ]
  },
  {
   "cell_type": "code",
   "execution_count": null,
   "id": "8c8cef94",
   "metadata": {},
   "outputs": [],
   "source": [
    "Image.fromarray((evoapp.render_gpu(evoapp.DNA.fromarray(best)) * 255).astype(np.uint8))"
   ]
  },
  {
   "cell_type": "code",
   "execution_count": null,
   "id": "03c1f19d-ebcc-4917-aa7c-121d4258054f",
   "metadata": {},
   "outputs": [],
   "source": [
    "# best = np.random.rand(450).astype(np.float32)\n",
    "best_fun = loss_gpu(best)\n",
    "\n",
    "i = 0\n",
    "while True:\n",
    "    try:\n",
    "        data = np.random.rand(450).astype(np.float32)\n",
    "        result = scipy.optimize.minimize(loss_gpu,\n",
    "                                         data,\n",
    "                                         bounds=[(0, 1) for _ in range(450)])\n",
    "        if result.fun < best_fun:\n",
    "            best = result.x\n",
    "            best_fun = result.fun\n",
    "            print('Best at iteration', i, 'is now', best_fun)\n",
    "    except:\n",
    "        pass\n",
    "    i = i + 1"
   ]
  },
  {
   "cell_type": "code",
   "execution_count": null,
   "id": "833cd436-2fba-46b5-a2ea-50d7883d9b56",
   "metadata": {},
   "outputs": [],
   "source": [
    "result.fun"
   ]
  },
  {
   "cell_type": "code",
   "execution_count": null,
   "id": "cee5d514-016c-47fb-9412-4332c9afb0e6",
   "metadata": {},
   "outputs": [],
   "source": [
    "Image.fromarray((target_np * 255).astype(np.uint8))"
   ]
  },
  {
   "cell_type": "code",
   "execution_count": null,
   "id": "cf31e574-8f14-48dd-bf1a-6628e409e875",
   "metadata": {},
   "outputs": [],
   "source": [
    "result2 = scipy.optimize.minimize(loss_gpu, best, bounds=[(0, 1) for _ in range(450)], jac='3-point', method='trust-constr')"
   ]
  },
  {
   "cell_type": "code",
   "execution_count": null,
   "id": "d414c354-0ae8-4c7c-bfbd-cca8746cb6b2",
   "metadata": {},
   "outputs": [],
   "source": [
    "print(loss_gpu(best))\n",
    "result2"
   ]
  },
  {
   "cell_type": "code",
   "execution_count": null,
   "id": "eed7f98b-3c31-456c-aced-b784f96d7582",
   "metadata": {},
   "outputs": [],
   "source": [
    "best = result2.x"
   ]
  },
  {
   "cell_type": "code",
   "execution_count": null,
   "id": "1192d9a4-1af4-4bd2-9337-0475533b1104",
   "metadata": {},
   "outputs": [],
   "source": [
    "img = evoapp.render_gpu(evoapp.DNA.fromarray(best))\n",
    "(np.min(img), np.max(img))"
   ]
  },
  {
   "cell_type": "code",
   "execution_count": null,
   "id": "57f7ace5",
   "metadata": {},
   "outputs": [],
   "source": [
    "np.max(target_np)"
   ]
  },
  {
   "cell_type": "code",
   "execution_count": null,
   "id": "e9d390bb",
   "metadata": {},
   "outputs": [],
   "source": [
    "# res = scipy.optimize.differential_evolution(loss_gpu, [(0, 1) for _ in range(450)])\n",
    "res"
   ]
  },
  {
   "cell_type": "code",
   "execution_count": null,
   "id": "300a0b29",
   "metadata": {},
   "outputs": [],
   "source": [
    "results = []\n",
    "while True:\n",
    "    start = time.time()\n",
    "    res = scipy.optimize.dual_annealing(loss_gpu, [(0, 1) for _ in range(450)], maxfun=500000, no_local_search=True)\n",
    "    results.append((res.fun, res.x, res))\n",
    "    if res.fun < loss_gpu(best):\n",
    "        best = res.x\n",
    "        np.save(\"build/best_iter.npy\", best)\n",
    "    end = time.time()\n",
    "    print(end - start, res.fun)\n"
   ]
  },
  {
   "cell_type": "code",
   "execution_count": null,
   "id": "4859726f",
   "metadata": {},
   "outputs": [],
   "source": [
    "Image.fromarray((evoapp.render_gpu(evoapp.DNA.fromarray(res.x)) * 255).astype(np.uint8))"
   ]
  },
  {
   "cell_type": "code",
   "execution_count": null,
   "id": "235f2dcb",
   "metadata": {},
   "outputs": [],
   "source": [
    "loss(best)"
   ]
  },
  {
   "cell_type": "code",
   "execution_count": null,
   "id": "6cde8529",
   "metadata": {},
   "outputs": [],
   "source": [
    "best = res.x"
   ]
  },
  {
   "cell_type": "code",
   "execution_count": null,
   "id": "22a22219",
   "metadata": {},
   "outputs": [],
   "source": [
    "d = evoapp.DNA.fromarray(best)"
   ]
  },
  {
   "cell_type": "code",
   "execution_count": null,
   "id": "3f070d0f",
   "metadata": {},
   "outputs": [],
   "source": [
    "def serialize_dna(dna):\n",
    "    dna_params = [3, 50]\n",
    "    for i in range(50):\n",
    "        p = dna.polys[i]\n",
    "        dna_params.extend(map(lambda i: int(i * 255), (p.r, p.g, p.b)))\n",
    "        dna_params.append(0.5)\n",
    "        verts = list(map(lambda i: int(i * 200), sum(map(lambda p: (p[1], p[0]), d.polys[i].vertices), ())))\n",
    "        dna_params.extend(verts)\n",
    "    return ' '.join(map(str, dna_params))"
   ]
  },
  {
   "cell_type": "code",
   "execution_count": null,
   "id": "4d951839",
   "metadata": {},
   "outputs": [],
   "source": [
    "def deserialize_dna(str):\n",
    "    opts = list(map(float, str.split(' ')))\n",
    "    d = evoapp.DNA()\n",
    "    for i in range(50):\n",
    "        if len(opts) <= 2:\n",
    "            d.polys[49 - i].vertices = [(0, 0), (0, 0), (0, 0)]\n",
    "            continue\n",
    "        v3y = opts.pop() / 200.0\n",
    "        v3x = opts.pop() / 200.0\n",
    "        v2y = opts.pop() / 200.0\n",
    "        v2x = opts.pop() / 200.0\n",
    "        v1y = opts.pop() / 200.0\n",
    "        v1x = opts.pop() / 200.0\n",
    "        alpha = opts.pop()\n",
    "        b = opts.pop()\n",
    "        g = opts.pop()\n",
    "        r = opts.pop()\n",
    "        d.polys[49 - i].r = r / 255.0\n",
    "        d.polys[49 - i].g = g / 255.0\n",
    "        d.polys[49 - i].b = b / 255.0\n",
    "        d.polys[49 - i].vertices = [(v1y, v1x), (v2y, v2x), (v3y, v3x)]\n",
    "    return d"
   ]
  },
  {
   "cell_type": "code",
   "execution_count": null,
   "id": "4b030518",
   "metadata": {},
   "outputs": [],
   "source": [
    "print(serialize_dna(d))"
   ]
  },
  {
   "cell_type": "code",
   "execution_count": null,
   "id": "b9687378",
   "metadata": {},
   "outputs": [],
   "source": [
    "d2 = deserialize_dna('3 1 0 64 128 0.5 0 0 199 199 199 0')\n",
    "print(serialize_dna(d2))"
   ]
  },
  {
   "cell_type": "code",
   "execution_count": null,
   "id": "20dc6f47",
   "metadata": {},
   "outputs": [],
   "source": [
    "Image.fromarray((evoapp.render_gpu(d2) * 255).astype(np.uint8))"
   ]
  },
  {
   "cell_type": "code",
   "execution_count": null,
   "id": "783d0045",
   "metadata": {},
   "outputs": [],
   "source": [
    "Image.fromarray((evoapp.render(d2) * 255).astype(np.uint8))"
   ]
  },
  {
   "cell_type": "code",
   "execution_count": null,
   "id": "45de1fa7",
   "metadata": {},
   "outputs": [],
   "source": [
    "best_fun = loss_gpu(best)\n",
    "print(best_fun)\n",
    "for i in range(450):\n",
    "    data = np.copy(best)\n",
    "    loss_prev = best_fun\n",
    "    steps_remain = 100\n",
    "    while steps_remain > 0:\n",
    "        prev = data[i]\n",
    "        data[i] = np.clip(data[i] + (np.random.rand() - 0.5) * 0.1, 0, 1)\n",
    "        loss_curr = loss_gpu(data)\n",
    "        if loss_curr < loss_prev:\n",
    "            loss_prev = loss_curr\n",
    "            steps_remain += 10\n",
    "        else:\n",
    "            data[i] = prev\n",
    "            steps_remain -= 1\n",
    "    if loss_prev < best_fun:\n",
    "        best_fun = loss_prev\n",
    "        best = data\n",
    "print(loss_gpu(best))"
   ]
  },
  {
   "cell_type": "code",
   "execution_count": null,
   "id": "e1483a82",
   "metadata": {},
   "outputs": [],
   "source": []
  }
 ],
 "metadata": {
  "kernelspec": {
   "display_name": "Python 3 (ipykernel)",
   "language": "python",
   "name": "python3"
  },
  "language_info": {
   "codemirror_mode": {
    "name": "ipython",
    "version": 3
   },
   "file_extension": ".py",
   "mimetype": "text/x-python",
   "name": "python",
   "nbconvert_exporter": "python",
   "pygments_lexer": "ipython3",
   "version": "3.10.12"
  }
 },
 "nbformat": 4,
 "nbformat_minor": 5
}
