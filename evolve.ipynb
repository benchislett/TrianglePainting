{
 "cells": [
  {
   "cell_type": "code",
   "execution_count": null,
   "id": "9a4288ce-4d10-4d62-9fb1-3c8221d0811e",
   "metadata": {},
   "outputs": [],
   "source": [
    "from PIL import Image\n",
    "import numpy as np\n",
    "import scipy\n",
    "import time\n",
    "import math\n",
    "import sys"
   ]
  },
  {
   "cell_type": "code",
   "execution_count": null,
   "id": "56f800ff-69ba-4def-b7d8-9de90d2db533",
   "metadata": {},
   "outputs": [],
   "source": [
    "sys.path.append(\"build\")\n",
    "import evoapp\n",
    "\n",
    "target_np = np.asarray(Image.open('lisa.png')).astype(np.float32) / 255.0\n",
    "\n",
    "loss_cpu_state = evoapp.LossStateCPU(target_np)\n",
    "\n",
    "NPrims = len(evoapp.DNA().primitives)\n",
    "NVert = evoapp.Polygon.params() // 2"
   ]
  },
  {
   "cell_type": "code",
   "execution_count": null,
   "id": "2c51837d-3ad0-445e-8f49-d9f023aaf947",
   "metadata": {},
   "outputs": [],
   "source": [
    "def randarr():\n",
    "    return np.random.rand(evoapp.DNA.params()).astype(np.float32)\n",
    "def randna():\n",
    "    return evoapp.DNA.fromarray(randarr())"
   ]
  },
  {
   "cell_type": "code",
   "execution_count": null,
   "id": "dc771f8a-c913-4ea1-a154-2bf27ba029e5",
   "metadata": {},
   "outputs": [],
   "source": [
    "def loss(f):\n",
    "    dna = evoapp.DNA.fromarray(f)\n",
    "    return loss_cpu_state.loss(dna)\n",
    "def loss_gpu(f):\n",
    "    return loss(f)\n",
    "    dna = evoapp.DNA.fromarray(f)\n",
    "    return loss_gpu_state.loss(dna)"
   ]
  },
  {
   "cell_type": "code",
   "execution_count": null,
   "id": "41db6995",
   "metadata": {},
   "outputs": [],
   "source": [
    "def assert_consistent_eval():\n",
    "    tmp_dna = randarr()\n",
    "    l1 = loss_gpu(tmp_dna)\n",
    "    l2 = loss_gpu(tmp_dna)\n",
    "    assert l1 == l2\n",
    "assert_consistent_eval()"
   ]
  },
  {
   "cell_type": "code",
   "execution_count": null,
   "id": "9a679997-5986-4a27-839f-a3e91dd96f27",
   "metadata": {},
   "outputs": [],
   "source": [
    "def benchmark_render(trials = 100):\n",
    "    tmp_dna = randarr()\n",
    "    start = time.time()\n",
    "    for _ in range(trials):\n",
    "        loss_gpu(tmp_dna)\n",
    "    end = time.time()\n",
    "    print(1.0 / ((end - start) / trials))\n",
    "print(benchmark_render())"
   ]
  },
  {
   "cell_type": "code",
   "execution_count": null,
   "id": "615c8339-84f4-4bb2-911a-a7824f7586d2",
   "metadata": {},
   "outputs": [],
   "source": [
    "dna = randna()"
   ]
  },
  {
   "cell_type": "code",
   "execution_count": null,
   "id": "a779d1be-29d0-428d-8b31-1640f54f8d96",
   "metadata": {},
   "outputs": [],
   "source": [
    "best = randarr()"
   ]
  },
  {
   "cell_type": "code",
   "execution_count": null,
   "id": "2e9751e0-24ad-4ec5-8785-05b55dcde545",
   "metadata": {},
   "outputs": [],
   "source": [
    "best = np.load(\"build/best.npy\")"
   ]
  },
  {
   "cell_type": "code",
   "execution_count": null,
   "id": "5603eb6c-f684-4476-aed9-49599633f6df",
   "metadata": {},
   "outputs": [],
   "source": [
    "best_fun = loss(best)\n",
    "improvements = []\n",
    "\n",
    "print_interval = 100\n",
    "i = 0\n",
    "prev_improve_count = 0\n",
    "prev_improve_amount = best_fun\n",
    "start = time.time()\n",
    "while True:\n",
    "    data = np.copy(best)\n",
    "    idx = np.random.randint(0,evoapp.DNA.params()) # medium\n",
    "    # data[idx] = np.clip(data[idx] + (np.random.rand() - 0.5) * 0.25, 0, 1) # soft\n",
    "    data[idx] = np.random.rand()\n",
    "    result_fun = loss_gpu(data)\n",
    "    if result_fun < best_fun:\n",
    "        best = data\n",
    "        best_fun = result_fun\n",
    "        improvements.append(best_fun)\n",
    "        prev_improve_count += 1\n",
    "    \n",
    "    i += 1\n",
    "    if i % print_interval == 0:\n",
    "        end = time.time()\n",
    "        print(\"Iterations: {:.2f}/s | Improvements: {} ({:.2f}%) | Best: {:.2f}\".format(print_interval / (end - start), prev_improve_count, float(100 * prev_improve_count) / print_interval, best_fun))\n",
    "        prev_improve_count = 0\n",
    "        prev_improve_amount = best_fun\n",
    "        start = time.time()"
   ]
  },
  {
   "cell_type": "code",
   "execution_count": null,
   "id": "0c38b435-af55-4fbf-9475-9063b9b43a8e",
   "metadata": {},
   "outputs": [],
   "source": [
    "np.save(\"build/best.npy\", best)"
   ]
  },
  {
   "cell_type": "code",
   "execution_count": null,
   "id": "54bb8bad-cb5b-4655-9b1c-b3457a804a3b",
   "metadata": {},
   "outputs": [],
   "source": [
    "loss(best)"
   ]
  },
  {
   "cell_type": "code",
   "execution_count": null,
   "id": "d533748d",
   "metadata": {},
   "outputs": [],
   "source": [
    "loss_gpu(best)"
   ]
  },
  {
   "cell_type": "code",
   "execution_count": null,
   "id": "045dfc30-1371-418c-aa70-ac73c208a27f",
   "metadata": {},
   "outputs": [],
   "source": [
    "Image.fromarray((evoapp.render(evoapp.DNA.fromarray(best)) * 255).astype(np.uint8))"
   ]
  },
  {
   "cell_type": "code",
   "execution_count": null,
   "id": "8c8cef94",
   "metadata": {},
   "outputs": [],
   "source": [
    "Image.fromarray((evoapp.render_gpu(evoapp.DNA.fromarray(best)) * 255).astype(np.uint8))"
   ]
  },
  {
   "cell_type": "code",
   "execution_count": null,
   "id": "03c1f19d-ebcc-4917-aa7c-121d4258054f",
   "metadata": {},
   "outputs": [],
   "source": [
    "# best = np.random.rand(evoapp.DNA.params()).astype(np.float32)\n",
    "best_fun = loss_gpu(best)\n",
    "\n",
    "i = 0\n",
    "while True:\n",
    "    try:\n",
    "        data = randarr()\n",
    "        result = scipy.optimize.minimize(loss_gpu,\n",
    "                                         data,\n",
    "                                         bounds=[(0, 1) for _ in range(evoapp.DNA.params())])\n",
    "        if result.fun < best_fun:\n",
    "            best = result.x\n",
    "            best_fun = result.fun\n",
    "            print('Best at iteration', i, 'is now', best_fun)\n",
    "    except:\n",
    "        pass\n",
    "    i = i + 1"
   ]
  },
  {
   "cell_type": "code",
   "execution_count": null,
   "id": "833cd436-2fba-46b5-a2ea-50d7883d9b56",
   "metadata": {},
   "outputs": [],
   "source": [
    "result.fun"
   ]
  },
  {
   "cell_type": "code",
   "execution_count": null,
   "id": "cee5d514-016c-47fb-9412-4332c9afb0e6",
   "metadata": {},
   "outputs": [],
   "source": [
    "Image.fromarray((target_np * 255).astype(np.uint8))"
   ]
  },
  {
   "cell_type": "code",
   "execution_count": null,
   "id": "cf31e574-8f14-48dd-bf1a-6628e409e875",
   "metadata": {},
   "outputs": [],
   "source": [
    "result2 = scipy.optimize.minimize(loss_gpu, best, bounds=[(0, 1) for _ in range(evoapp.DNA.params())], jac='3-point', method='trust-constr')"
   ]
  },
  {
   "cell_type": "code",
   "execution_count": null,
   "id": "d414c354-0ae8-4c7c-bfbd-cca8746cb6b2",
   "metadata": {},
   "outputs": [],
   "source": [
    "print(loss_gpu(best))\n",
    "result2"
   ]
  },
  {
   "cell_type": "code",
   "execution_count": null,
   "id": "eed7f98b-3c31-456c-aced-b784f96d7582",
   "metadata": {},
   "outputs": [],
   "source": [
    "best = result2.x"
   ]
  },
  {
   "cell_type": "code",
   "execution_count": null,
   "id": "1192d9a4-1af4-4bd2-9337-0475533b1104",
   "metadata": {},
   "outputs": [],
   "source": [
    "img = evoapp.render_gpu(evoapp.DNA.fromarray(best))\n",
    "(np.min(img), np.max(img))"
   ]
  },
  {
   "cell_type": "code",
   "execution_count": null,
   "id": "57f7ace5",
   "metadata": {},
   "outputs": [],
   "source": [
    "np.max(target_np)"
   ]
  },
  {
   "cell_type": "code",
   "execution_count": null,
   "id": "e9d390bb",
   "metadata": {},
   "outputs": [],
   "source": [
    "# res = scipy.optimize.differential_evolution(loss_gpu, [(0, 1) for _ in range(evoapp.DNA.params())])\n",
    "res"
   ]
  },
  {
   "cell_type": "code",
   "execution_count": null,
   "id": "300a0b29",
   "metadata": {},
   "outputs": [],
   "source": [
    "results = []\n",
    "while True:\n",
    "    start = time.time()\n",
    "    res = scipy.optimize.dual_annealing(loss_gpu, [(0, 1) for _ in range(evoapp.DNA.params())], maxfun=500000, no_local_search=True)\n",
    "    results.append((res.fun, res.x, res))\n",
    "    if res.fun < loss_gpu(best):\n",
    "        best = res.x\n",
    "        np.save(\"build/best_iter.npy\", best)\n",
    "    end = time.time()\n",
    "    print(end - start, res.fun)\n"
   ]
  },
  {
   "cell_type": "code",
   "execution_count": null,
   "id": "4859726f",
   "metadata": {},
   "outputs": [],
   "source": [
    "Image.fromarray((evoapp.render_gpu(evoapp.DNA.fromarray(res.x)) * 255).astype(np.uint8))"
   ]
  },
  {
   "cell_type": "code",
   "execution_count": null,
   "id": "235f2dcb",
   "metadata": {},
   "outputs": [],
   "source": [
    "loss(best)"
   ]
  },
  {
   "cell_type": "code",
   "execution_count": null,
   "id": "6cde8529",
   "metadata": {},
   "outputs": [],
   "source": [
    "best = res.x"
   ]
  },
  {
   "cell_type": "code",
   "execution_count": null,
   "id": "22a22219",
   "metadata": {},
   "outputs": [],
   "source": [
    "d = evoapp.DNA.fromarray(best)"
   ]
  },
  {
   "cell_type": "code",
   "execution_count": null,
   "id": "3f070d0f",
   "metadata": {},
   "outputs": [],
   "source": [
    "def serialize_dna(dna):\n",
    "    dna_params = [NVert, NPrims]\n",
    "    for p in dna.primitives:\n",
    "        dna_params.extend(map(lambda i: int(i * 255), (p.r, p.g, p.b)))\n",
    "        dna_params.append(0.5)\n",
    "        verts = list(map(lambda i: round(i * 200), sum(map(lambda v: (v[1], v[0]), p.poly.transpose()), ())))\n",
    "        dna_params.extend(verts)\n",
    "    return ' '.join(map(str, dna_params))"
   ]
  },
  {
   "cell_type": "code",
   "execution_count": null,
   "id": "4d951839",
   "metadata": {},
   "outputs": [],
   "source": [
    "def deserialize_dna(str):\n",
    "    opts = list(map(float, str.split(' ')))\n",
    "    assert int(opts[0]) == NVert\n",
    "    assert int(opts[1]) <= NPrims\n",
    "    opts = opts[2:]\n",
    "\n",
    "    d = evoapp.DNA()\n",
    "    for i in range(NPrims):\n",
    "        if len(opts) <= 2:\n",
    "            break\n",
    "        r, g, b, alpha, *verts = opts[0:(4 + 2 * NVert)]\n",
    "        d.primitives[i].r = r / 255.0\n",
    "        d.primitives[i].g = g / 255.0\n",
    "        d.primitives[i].b = b / 255.0\n",
    "\n",
    "        arr = np.asarray(verts).reshape((NVert, 2))[:, [1, 0]]\n",
    "        d.primitives[i].poly = evoapp.Polygon(arr / 200.0)\n",
    "        opts = opts[4 + 2 * NVert:]\n",
    "    return d"
   ]
  },
  {
   "cell_type": "code",
   "execution_count": null,
   "id": "4b030518",
   "metadata": {},
   "outputs": [],
   "source": [
    "print(serialize_dna(d))\n",
    "d2 = deserialize_dna(serialize_dna(d))\n",
    "print(serialize_dna(d2))"
   ]
  },
  {
   "cell_type": "code",
   "execution_count": null,
   "id": "bc7bf39f",
   "metadata": {},
   "outputs": [],
   "source": []
  },
  {
   "cell_type": "code",
   "execution_count": null,
   "id": "2d196776",
   "metadata": {},
   "outputs": [],
   "source": [
    "print(d2.primitives[2].poly.verts_x)\n",
    "print(d2.primitives[0].poly.verts_y)"
   ]
  },
  {
   "cell_type": "code",
   "execution_count": null,
   "id": "b9687378",
   "metadata": {},
   "outputs": [],
   "source": [
    "# d2 = deserialize_dna('3 1 0 64 128 0.5 0 0 199 199 199 0')\n",
    "d2 = deserialize_dna('3 50 141 167 110 0.7692422436853981 200 200 48 198 200 0 136 159 104 0.78125 0 0 62 182 200 0 45 29 18 0.6085522079420671 69 16 183 125 139 14 56 44 28 0.8445853674912092 18 200 156 31 199 200 60 70 36 0.83984375 106 200 0 1 0 200 65 49 43 0.1130273745411643 0 0 111 0 40 169 72 79 57 0.77734375 98 8 200 200 200 90 65 31 38 0.1484375 199 83 101 62 161 48 255 182 96 0.6796875 25 65 99 200 132 59 187 196 140 0.9244396412892593 114 54 0 102 1 14 249 196 101 0.83203125 145 200 130 156 62 200 119 87 46 0.98046875 35 80 122 137 132 78 250 201 115 0.87109375 52 99 107 127 129 89 98 72 39 0.421875 78 115 105 187 176 192 252 221 139 0.7109375 80 100 107 37 58 38 16 11 21 0.27734375 118 178 7 107 49 163 255 189 91 0.2578125 68 152 123 148 135 82 253 230 154 0.25080006806528976 59 125 118 46 36 34 64 66 43 0.3510387900285945 158 93 174 169 48 199 86 92 64 0.98828125 0 159 56 38 55 90 112 90 37 0.19921875 114 40 146 59 99 70 61 56 37 0.55859375 189 168 31 172 96 152 222 242 179 0.359375 37 114 43 40 0 75 132 122 121 0.46875 64 3 135 26 172 39 104 53 2 0.14453125 68 20 138 95 134 4 91 119 91 0.08984375 165 177 81 70 196 106 240 160 62 0.23046875 83 125 126 53 104 37 125 150 122 0.57421875 42 150 28 199 0 166 126 148 92 0.296875 16 49 0 0 80 0 229 172 45 0.10546875 103 35 135 71 32 190 255 139 175 0.03515625 117 27 195 159 81 131 64 66 56 0.33203125 120 94 155 30 116 21 82 81 52 0.73828125 57 58 44 187 18 120 60 62 59 0.109375 30 33 18 72 119 22 79 42 52 0.28515625 54 103 20 199 81 198 83 36 4 0.26953125 23 95 81 8 38 89 78 66 30 0.703125 57 35 100 9 34 77 89 56 46 0.17578125 85 104 77 146 129 130 254 178 88 0.2734375 67 37 46 61 77 157 71 13 7 0.1640625 23 146 64 20 55 122 143 242 149 0.5859375 81 127 45 58 64 94 98 7 0 0.09375 88 112 65 68 116 92 244 237 42 0.5546875 133 101 19 171 167 80 76 74 41 0.984375 39 176 0 199 27 200 115 82 48 0.5390625 175 199 139 200 132 173 57 46 49 0.2578125 184 199 117 120 166 53 160 177 134 0.73828125 0 54 62 31 0 2 156 147 134 0.00390625 97 165 149 55 60 101 112 136 96 0.63671875 166 61 200 68 200 124 245 251 121 0.08573622919711199 54 58 118 146 117 103')\n",
    "print(serialize_dna(d2))"
   ]
  },
  {
   "cell_type": "code",
   "execution_count": null,
   "id": "20dc6f47",
   "metadata": {},
   "outputs": [],
   "source": [
    "Image.fromarray((evoapp.render(d2) * 255).astype(np.uint8))"
   ]
  },
  {
   "cell_type": "code",
   "execution_count": null,
   "id": "783d0045",
   "metadata": {},
   "outputs": [],
   "source": [
    "Image.fromarray((evoapp.render(d2) * 255).astype(np.uint8))"
   ]
  },
  {
   "cell_type": "code",
   "execution_count": null,
   "id": "45de1fa7",
   "metadata": {},
   "outputs": [],
   "source": [
    "best_fun = loss_gpu(best)\n",
    "print(best_fun)\n",
    "for i in range(evoapp.DNA.params()):\n",
    "    data = np.copy(best)\n",
    "    loss_prev = best_fun\n",
    "    steps_remain = 100\n",
    "    while steps_remain > 0:\n",
    "        prev = data[i]\n",
    "        data[i] = np.clip(data[i] + (np.random.rand() - 0.5) * 0.1, 0, 1)\n",
    "        loss_curr = loss_gpu(data)\n",
    "        if loss_curr < loss_prev:\n",
    "            loss_prev = loss_curr\n",
    "            steps_remain += 10\n",
    "        else:\n",
    "            data[i] = prev\n",
    "            steps_remain -= 1\n",
    "    if loss_prev < best_fun:\n",
    "        best_fun = loss_prev\n",
    "        best = data\n",
    "print(loss_gpu(best))"
   ]
  },
  {
   "cell_type": "code",
   "execution_count": null,
   "id": "e1483a82",
   "metadata": {},
   "outputs": [],
   "source": [
    "evoapp.Polygon(np.asarray([[0, 0], [0, 0], [0, 0]])).test(0.5, 0.5)"
   ]
  },
  {
   "cell_type": "code",
   "execution_count": null,
   "id": "6cbb9511",
   "metadata": {},
   "outputs": [],
   "source": []
  }
 ],
 "metadata": {
  "kernelspec": {
   "display_name": "Python 3 (ipykernel)",
   "language": "python",
   "name": "python3"
  },
  "language_info": {
   "codemirror_mode": {
    "name": "ipython",
    "version": 3
   },
   "file_extension": ".py",
   "mimetype": "text/x-python",
   "name": "python",
   "nbconvert_exporter": "python",
   "pygments_lexer": "ipython3",
   "version": "3.11.6"
  }
 },
 "nbformat": 4,
 "nbformat_minor": 5
}
