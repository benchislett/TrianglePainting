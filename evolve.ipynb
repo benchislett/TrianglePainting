{
 "cells": [
  {
   "cell_type": "code",
   "execution_count": null,
   "id": "9a4288ce-4d10-4d62-9fb1-3c8221d0811e",
   "metadata": {},
   "outputs": [],
   "source": [
    "from PIL import Image\n",
    "import numpy as np\n",
    "import time"
   ]
  },
  {
   "cell_type": "code",
   "execution_count": null,
   "id": "56f800ff-69ba-4def-b7d8-9de90d2db533",
   "metadata": {},
   "outputs": [],
   "source": [
    "import evoapp"
   ]
  },
  {
   "cell_type": "code",
   "execution_count": null,
   "id": "2c51837d-3ad0-445e-8f49-d9f023aaf947",
   "metadata": {},
   "outputs": [],
   "source": [
    "target_np = np.asarray(Image.open('../lisa.png')).astype(np.float32) / 255.0"
   ]
  },
  {
   "cell_type": "code",
   "execution_count": null,
   "id": "dc771f8a-c913-4ea1-a154-2bf27ba029e5",
   "metadata": {},
   "outputs": [],
   "source": [
    "def loss(f):\n",
    "    dna = evoapp.DNA.fromarray(f)\n",
    "    return evoapp.loss(dna, target_np)"
   ]
  },
  {
   "cell_type": "code",
   "execution_count": null,
   "id": "9a679997-5986-4a27-839f-a3e91dd96f27",
   "metadata": {},
   "outputs": [],
   "source": [
    "loss(np.random.rand(450).astype(np.float32))"
   ]
  },
  {
   "cell_type": "code",
   "execution_count": null,
   "id": "615c8339-84f4-4bb2-911a-a7824f7586d2",
   "metadata": {},
   "outputs": [],
   "source": [
    "dna = evoapp.DNA.fromarray(np.random.rand(450).astype(np.float32))"
   ]
  },
  {
   "cell_type": "code",
   "execution_count": null,
   "id": "a779d1be-29d0-428d-8b31-1640f54f8d96",
   "metadata": {},
   "outputs": [],
   "source": [
    "best = np.random.rand(450).astype(np.float32)"
   ]
  },
  {
   "cell_type": "code",
   "execution_count": null,
   "id": "2e9751e0-24ad-4ec5-8785-05b55dcde545",
   "metadata": {},
   "outputs": [],
   "source": [
    "best = np.load(\"best.npy\")"
   ]
  },
  {
   "cell_type": "code",
   "execution_count": null,
   "id": "5603eb6c-f684-4476-aed9-49599633f6df",
   "metadata": {},
   "outputs": [],
   "source": [
    "best_fun = loss(best)\n",
    "improvements = []\n",
    "\n",
    "i = 0\n",
    "prev_improve_count = 0\n",
    "start = time.time()\n",
    "while True:\n",
    "    data = np.copy(best)\n",
    "    idx = np.random.randint(0,450)\n",
    "    data[idx] = np.clip(data[idx] + np.random.rand() * 0.25, 0, 1)\n",
    "    result_fun = loss(data)\n",
    "    if result_fun < best_fun:\n",
    "        best = data\n",
    "        best_fun = result_fun\n",
    "        improvements.append(best_fun)\n",
    "        prev_improve_count += 1\n",
    "    i += 1\n",
    "    if i % 100 == 0:\n",
    "        end = time.time()\n",
    "        print(\"Iteration rate:\", 100.0 / (end - start), \"/s | Improvement Rate:\", (prev_improve_count / 100.0), \"%\")\n",
    "        prev_improve_count = 0\n",
    "        start = time.time()"
   ]
  },
  {
   "cell_type": "code",
   "execution_count": null,
   "id": "0c38b435-af55-4fbf-9475-9063b9b43a8e",
   "metadata": {},
   "outputs": [],
   "source": [
    "np.save(\"best.npy\", best)"
   ]
  },
  {
   "cell_type": "code",
   "execution_count": null,
   "id": "54bb8bad-cb5b-4655-9b1c-b3457a804a3b",
   "metadata": {},
   "outputs": [],
   "source": [
    "loss(best)"
   ]
  },
  {
   "cell_type": "code",
   "execution_count": null,
   "id": "045dfc30-1371-418c-aa70-ac73c208a27f",
   "metadata": {},
   "outputs": [],
   "source": [
    "Image.fromarray((evoapp.render(evoapp.DNA.fromarray(best)) * 255).astype(np.uint8))"
   ]
  },
  {
   "cell_type": "code",
   "execution_count": null,
   "id": "1192d9a4-1af4-4bd2-9337-0475533b1104",
   "metadata": {},
   "outputs": [],
   "source": [
    "import scipy"
   ]
  },
  {
   "cell_type": "code",
   "execution_count": null,
   "id": "03c1f19d-ebcc-4917-aa7c-121d4258054f",
   "metadata": {},
   "outputs": [],
   "source": [
    "best = np.random.rand(450).astype(np.float32)\n",
    "best_fun = loss(best)\n",
    "\n",
    "i = 0\n",
    "while True:\n",
    "    try:\n",
    "        data = np.random.rand(450).astype(np.float32)\n",
    "        result = scipy.optimize.minimize(loss,\n",
    "                                         data,\n",
    "                                         bounds=[(0, 1) for i in range(450)],\n",
    "                                         options={'verbose': 2})\n",
    "        if result.fun < best_fun:\n",
    "            best = result.x\n",
    "            best_fun = result.fun\n",
    "            print('Best at iteration', i, 'is now', best_fun)\n",
    "    except:\n",
    "        pass\n",
    "    i = i + 1"
   ]
  },
  {
   "cell_type": "code",
   "execution_count": null,
   "id": "833cd436-2fba-46b5-a2ea-50d7883d9b56",
   "metadata": {},
   "outputs": [],
   "source": [
    "result.fun"
   ]
  },
  {
   "cell_type": "code",
   "execution_count": null,
   "id": "cee5d514-016c-47fb-9412-4332c9afb0e6",
   "metadata": {},
   "outputs": [],
   "source": [
    "Image.fromarray((evoapp.render(evoapp.DNA.fromarray(result.x)) * 255).astype(np.uint8))"
   ]
  },
  {
   "cell_type": "code",
   "execution_count": null,
   "id": "cf31e574-8f14-48dd-bf1a-6628e409e875",
   "metadata": {},
   "outputs": [],
   "source": [
    "result2 = scipy.optimize.minimize(loss, result.x)"
   ]
  },
  {
   "cell_type": "code",
   "execution_count": null,
   "id": "eed7f98b-3c31-456c-aced-b784f96d7582",
   "metadata": {},
   "outputs": [],
   "source": [
    "result2.x - result.x"
   ]
  },
  {
   "cell_type": "code",
   "execution_count": null,
   "id": "d414c354-0ae8-4c7c-bfbd-cca8746cb6b2",
   "metadata": {},
   "outputs": [],
   "source": [
    "result.x"
   ]
  },
  {
   "cell_type": "code",
   "execution_count": null,
   "id": "36dd9dd6-f267-41d1-94f5-a6181dbc76ab",
   "metadata": {},
   "outputs": [],
   "source": []
  }
 ],
 "metadata": {
  "kernelspec": {
   "display_name": "Python 3 (ipykernel)",
   "language": "python",
   "name": "python3"
  },
  "language_info": {
   "codemirror_mode": {
    "name": "ipython",
    "version": 3
   },
   "file_extension": ".py",
   "mimetype": "text/x-python",
   "name": "python",
   "nbconvert_exporter": "python",
   "pygments_lexer": "ipython3",
   "version": "3.11.6"
  }
 },
 "nbformat": 4,
 "nbformat_minor": 5
}
