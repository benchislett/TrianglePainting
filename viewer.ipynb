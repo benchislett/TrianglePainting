{
 "cells": [
  {
   "cell_type": "code",
   "execution_count": null,
   "id": "29091a3f-9aea-4669-9c73-ac2fe0d40bea",
   "metadata": {},
   "outputs": [],
   "source": [
    "using Revise\n",
    "using Paint"
   ]
  },
  {
   "cell_type": "code",
   "execution_count": null,
   "id": "f2e9b8df-afcf-49c1-bbba-0cdf94916cc7",
   "metadata": {},
   "outputs": [],
   "source": [
    "using Serialization\n",
    "using Images, ImageShow\n",
    "using Plots\n",
    "using Evolutionary\n",
    "using BlackBoxOptim\n",
    "using StaticArrays"
   ]
  },
  {
   "cell_type": "code",
   "execution_count": null,
   "id": "a448ebf7-a678-4563-908a-529821c8558f",
   "metadata": {},
   "outputs": [],
   "source": [
    "target = float.(load(\"lisa.png\"))"
   ]
  },
  {
   "cell_type": "code",
   "execution_count": null,
   "id": "d63e4f1e-91a6-43d6-9808-f2a3cf43be88",
   "metadata": {},
   "outputs": [],
   "source": [
    "hist = Serialization.deserialize(\"output/simresult/simlog_100-prims_10x-blackbox_5000-batch_5-epoch_250-refine.bin\")\n",
    "nothing"
   ]
  },
  {
   "cell_type": "code",
   "execution_count": null,
   "id": "26fda16c-ea61-4bb2-9b68-b4dbe9ba15cf",
   "metadata": {},
   "outputs": [],
   "source": [
    "function drawstate(state, size)\n",
    "    initial = zeros(RGB{Float32}, size) .+ state.background\n",
    "    for k in eachindex(state.shapes)\n",
    "        draw!(initial, state.shapes[k], state.current_colours[k], RasterAlgorithmScanline())\n",
    "    end\n",
    "    initial\n",
    "end"
   ]
  },
  {
   "cell_type": "code",
   "execution_count": null,
   "id": "9b1c8481-6ca0-43be-96ef-9dc401a4485f",
   "metadata": {},
   "outputs": [],
   "source": [
    "gr()\n",
    "plots = []\n",
    "anim_singles = @animate for i = 1:length(hist.history)+100\n",
    "    ival = min(i, length(hist.history))\n",
    "    res = hist.history[ival]\n",
    "    drawsize = (200, 200)\n",
    "    img = drawstate(res, drawsize)\n",
    "    push!(plots, plot(img, size=drawsize, showaxis=true, ticks=false, title=string(ival-1)))\n",
    "end\n",
    "gif(anim_singles, fps=12)"
   ]
  },
  {
   "cell_type": "code",
   "execution_count": null,
   "id": "5d9b6717-e74f-4e81-8ffd-ec94c2b30a13",
   "metadata": {},
   "outputs": [],
   "source": [
    "losses::Vector{Float32} = [state.best for state in hist.history]"
   ]
  },
  {
   "cell_type": "code",
   "execution_count": null,
   "id": "be432b0a-7351-4851-b126-d00b011dba4d",
   "metadata": {},
   "outputs": [],
   "source": [
    "plotly()\n",
    "plot(losses)"
   ]
  },
  {
   "cell_type": "code",
   "execution_count": null,
   "id": "a702e6ee-947e-4572-b504-ee4b25bf2b2a",
   "metadata": {},
   "outputs": [],
   "source": [
    "function sample_loss(xs)\n",
    "    tri = Triangle(SVector{6, Float32}(xs))\n",
    "    col = averagepixel(target, tri, RasterAlgorithmScanline())\n",
    "    loss = drawloss(target, hist.history[end].current, tri, col, SELoss(), RasterAlgorithmScanline())\n",
    "    Float64(loss)\n",
    "end"
   ]
  },
  {
   "cell_type": "code",
   "execution_count": null,
   "id": "7cac85c7-0f2e-48c6-b8b9-98dcffa89ca1",
   "metadata": {},
   "outputs": [],
   "source": [
    "optres = compare_optimizers(x -> sample_loss(x); SearchRange=(0, 1), NumDimensions=6, MaxTime=3, PopulationSize=1000)"
   ]
  },
  {
   "cell_type": "code",
   "execution_count": null,
   "id": "d390597a-5ea5-47ee-af47-fbd1401b18c8",
   "metadata": {},
   "outputs": [],
   "source": [
    "optres = bboptimize(x -> sample_loss(x), [0.48461180779532725, 0.2759816866858497, 0.6661557722723, 0.40521914605484205, 0.5720804506313976, 0.2886744590110042]; SearchRange=(0, 1), NumDimensions=6, MaxTime=10)"
   ]
  },
  {
   "cell_type": "code",
   "execution_count": null,
   "id": "6bdc61c4-fe75-401c-b05a-ff549de83a53",
   "metadata": {},
   "outputs": [],
   "source": [
    "nbatch = 100000\n",
    "nepochs = 3\n",
    "nrefinement = 100\n",
    "@time minloss, mintri, mincol = simulate_iter_ga(hist.history[end], target, nbatch, nepochs, nrefinement, losstype=SELoss())"
   ]
  },
  {
   "cell_type": "code",
   "execution_count": null,
   "id": "827224b3-cb1d-4758-b806-e81d7abe9c99",
   "metadata": {},
   "outputs": [],
   "source": [
    "img = copy(hist.history[100].current)\n",
    "mintri = Triangle(SVector{6, Float32}([0.481231, 0.273921, 0.667457, 0.412713, 0.588618, 0.29568]))\n",
    "draw!(img, mintri, averagepixel(target, mintri, RasterAlgorithmScanline()), RasterAlgorithmScanline())\n",
    "# draw!(img, mintri, RGB{Float32}(1,0,1), RasterAlgorithmScanline())\n",
    "img"
   ]
  },
  {
   "cell_type": "code",
   "execution_count": null,
   "id": "39c5b1c4-0923-4e3a-9859-848904d7d356",
   "metadata": {},
   "outputs": [],
   "source": [
    "diff = Gray.(abs.(img .- target))\n",
    "diff = diff ./ maximum(diff)"
   ]
  },
  {
   "cell_type": "code",
   "execution_count": null,
   "id": "da099516-56ac-4cfa-bc06-7981c0848dba",
   "metadata": {},
   "outputs": [],
   "source": [
    "blurdiff = imfilter(diff, Kernel.box((9,9)))"
   ]
  },
  {
   "cell_type": "code",
   "execution_count": null,
   "id": "476ea152-1bc1-4d7b-b4c1-84f03c02f2db",
   "metadata": {},
   "outputs": [],
   "source": [
    "perm = reverse(sortperm([blurdiff...]))\n",
    "points = perm[1:1000]"
   ]
  },
  {
   "cell_type": "code",
   "execution_count": null,
   "id": "733909b7-70e0-4101-b499-b96fcfdf84ea",
   "metadata": {},
   "outputs": [],
   "source": [
    "plt = plot(diff)\n",
    "scatter!(plt, [swap(CartesianIndices(blurdiff)[pt].I) for pt in points])"
   ]
  },
  {
   "cell_type": "code",
   "execution_count": null,
   "id": "9ce949b7-864b-4fc4-947e-079450c64968",
   "metadata": {},
   "outputs": [],
   "source": [
    "CartesianIndices(diff)[29227]"
   ]
  },
  {
   "cell_type": "code",
   "execution_count": null,
   "id": "7b4165bd-e54d-4da4-b9d6-9f0499b18835",
   "metadata": {},
   "outputs": [],
   "source": [
    "swap(p) = p[2], p[1]"
   ]
  },
  {
   "cell_type": "code",
   "execution_count": null,
   "id": "df544125-deb4-48f4-9deb-43bbb5c189d1",
   "metadata": {},
   "outputs": [],
   "source": [
    "el = transpose(reshape(reverse(blurdiff[sortperm([blurdiff...])]), (200, 200)))"
   ]
  },
  {
   "cell_type": "code",
   "execution_count": null,
   "id": "26bcf9bb-031f-41d7-b602-361c5195e566",
   "metadata": {},
   "outputs": [],
   "source": [
    "el ./ maximum(el)"
   ]
  },
  {
   "cell_type": "code",
   "execution_count": null,
   "id": "69ea5571-6fc8-4262-b6c5-41c214553770",
   "metadata": {},
   "outputs": [],
   "source": []
  },
  {
   "cell_type": "code",
   "execution_count": null,
   "id": "f8ec7b14-eb1a-4820-baa1-680c4ca0a522",
   "metadata": {},
   "outputs": [],
   "source": []
  }
 ],
 "metadata": {
  "kernelspec": {
   "display_name": "Julia 1.9.4",
   "language": "julia",
   "name": "julia-1.9"
  },
  "language_info": {
   "file_extension": ".jl",
   "mimetype": "application/julia",
   "name": "julia",
   "version": "1.9.4"
  }
 },
 "nbformat": 4,
 "nbformat_minor": 5
}
